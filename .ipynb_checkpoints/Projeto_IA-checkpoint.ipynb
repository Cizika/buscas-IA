{
 "cells": [
  {
   "cell_type": "markdown",
   "metadata": {},
   "source": [
    "# Problema de Busca - Super Mario Bros\n",
    "## Projeto da disciplina **SCC0230 - Inteligência Artificial**\n",
    "### Assunto: Busca Informada e Busca Cega"
   ]
  },
  {
   "cell_type": "markdown",
   "metadata": {},
   "source": [
    "## Membros\n",
    "\n",
    "* Alexandre Eduardo de Souza Jesus - alexandre_souza@usp.br - 12559506\n",
    "\n",
    "* Arthur Santorum Lorenzetto - arts.lorenzetto@usp.br -\n",
    "\n",
    "* Eduardo Zaffari Monteiro - eduardozaffarimonteiro@usp.br - \n",
    "\n",
    "* Gustavo Silva de Oliveira - gustavo.oliveira03@usp.br - 12567231 (Vice-Líder)\n",
    "\n",
    "* Lucas Ivars Cadima Ciziks - luciziks@usp.br - 125599472 (Líder)\n",
    "\n",
    "* Pedro Henrique de Freitas Maçonetto - pedromaconetto@usp.br - \n",
    "\n",
    "* Vitor Okubo Ianella - vitorok.03@gmail.com - "
   ]
  },
  {
   "cell_type": "markdown",
   "metadata": {},
   "source": [
    "## Introdução"
   ]
  },
  {
   "cell_type": "markdown",
   "metadata": {},
   "source": [
    "* Motivação = Descrever o objetivo do trabalho;\n",
    "* Especificação = Explicar a temática do problema e ferramentas utilizadas;\n",
    "* Contextualização = Resumir as estratégias abordadas."
   ]
  },
  {
   "cell_type": "markdown",
   "metadata": {},
   "source": [
    "## Modelagem do Problema"
   ]
  },
  {
   "cell_type": "markdown",
   "metadata": {},
   "source": [
    "Descrever os seguintes aspectos do problema:\n",
    "* Estados;\n",
    "* Operadores;\n",
    "* Movimentos válidos;\n",
    "* Configuração final.\n",
    "\n",
    "Detalhar visualmente o Espaço de Estados (Matriz Esparsa)"
   ]
  },
  {
   "cell_type": "code",
   "execution_count": 1,
   "metadata": {},
   "outputs": [],
   "source": [
    "import csv\n",
    "import numpy as np\n",
    "import pandas as pd\n",
    "from scipy import sparse\n",
    "from queue import PriorityQueue"
   ]
  },
  {
   "cell_type": "markdown",
   "metadata": {},
   "source": [
    "## Busca Não Informada"
   ]
  },
  {
   "cell_type": "markdown",
   "metadata": {},
   "source": [
    "* Justificar escolha do algoritmo;\n",
    "* Especificar decisões de implementação: Estruturas de Dados, manipulação dos dados, adaptações ao problema, etc."
   ]
  },
  {
   "cell_type": "code",
   "execution_count": 2,
   "metadata": {},
   "outputs": [],
   "source": [
    "# Implementar a Busca Cega do Trabalho (Busca em Profundidade ou em Largura)\n",
    "# Em Largura: https://www.geeksforgeeks.org/breadth-first-search-or-bfs-for-a-graph/\n",
    "# Em Profundidade: https://www.geeksforgeeks.org/depth-first-search-or-dfs-for-a-graph/?ref=lbp"
   ]
  },
  {
   "cell_type": "markdown",
   "metadata": {},
   "source": [
    "## Busca Informada"
   ]
  },
  {
   "cell_type": "markdown",
   "metadata": {},
   "source": [
    "* Justificar escolha do algoritmo;\n",
    "* Fundamentar heurística utilizada (Admissibilidade);\n",
    "* Especificar decisões de implementação: Estruturas de Dados, manipulação dos dados, adaptações ao problema, etc."
   ]
  },
  {
   "cell_type": "code",
   "execution_count": 3,
   "metadata": {},
   "outputs": [],
   "source": [
    "# Implementar a Busca Informada do Trabalho\n",
    "# A*: https://www.geeksforgeeks.org/a-search-algorithm/\n",
    "# Greedy Best-First: https://www.geeksforgeeks.org/best-first-search-informed-search/\n"
   ]
  },
  {
   "cell_type": "code",
   "execution_count": 4,
   "metadata": {},
   "outputs": [],
   "source": [
    "maze = pd.read_csv('labirinto.csv',header=None).values"
   ]
  },
  {
   "cell_type": "code",
   "execution_count": 5,
   "metadata": {
    "scrolled": false
   },
   "outputs": [
    {
     "data": {
      "text/plain": [
       "array([[0, 0, 0, 0, 0, 0, 0, 0, 0, 0],\n",
       "       [0, 1, 1, 1, 1, 3, 1, 1, 1, 0],\n",
       "       [0, 1, 0, 1, 0, 1, 0, 0, 4, 0],\n",
       "       [0, 1, 0, 6, 0, 1, 0, 0, 1, 0],\n",
       "       [0, 1, 0, 0, 0, 1, 0, 1, 0, 0],\n",
       "       [0, 1, 0, 0, 0, 0, 0, 0, 5, 0],\n",
       "       [0, 1, 1, 1, 1, 1, 1, 1, 1, 0],\n",
       "       [0, 0, 0, 0, 0, 0, 0, 0, 0, 0]], dtype=int64)"
      ]
     },
     "execution_count": 5,
     "metadata": {},
     "output_type": "execute_result"
    }
   ],
   "source": [
    "maze"
   ]
  },
  {
   "cell_type": "code",
   "execution_count": 6,
   "metadata": {},
   "outputs": [
    {
     "data": {
      "text/plain": [
       "{(1, 1): [('S', (2, 1)), ('L', (1, 2))],\n",
       " (2, 1): [('N', (1, 1)), ('S', (3, 1))],\n",
       " (3, 1): [('N', (2, 1)), ('S', (4, 1))],\n",
       " (4, 1): [('N', (3, 1)), ('S', (5, 1))],\n",
       " (5, 1): [('N', (4, 1)), ('S', (6, 1))],\n",
       " (6, 1): [('N', (5, 1)), ('L', (6, 2))],\n",
       " (1, 2): [('O', (1, 1)), ('L', (1, 3))],\n",
       " (6, 2): [('O', (6, 1)), ('L', (6, 3))],\n",
       " (1, 3): [('O', (1, 2)), ('S', (2, 3)), ('L', (1, 4))],\n",
       " (2, 3): [('N', (1, 3)), ('S', (3, 3))],\n",
       " (3, 3): [('N', (2, 3))],\n",
       " (6, 3): [('O', (6, 2)), ('L', (6, 4))],\n",
       " (1, 4): [('O', (1, 3)), ('L', (1, 5))],\n",
       " (6, 4): [('O', (6, 3)), ('L', (6, 5))],\n",
       " (1, 5): [('O', (1, 4)), ('S', (2, 5)), ('L', (1, 6))],\n",
       " (2, 5): [('N', (1, 5)), ('S', (3, 5))],\n",
       " (3, 5): [('N', (2, 5)), ('S', (4, 5))],\n",
       " (4, 5): [('N', (3, 5))],\n",
       " (6, 5): [('O', (6, 4)), ('L', (6, 6))],\n",
       " (1, 6): [('O', (1, 5)), ('L', (1, 7))],\n",
       " (6, 6): [('O', (6, 5)), ('L', (6, 7))],\n",
       " (1, 7): [('O', (1, 6)), ('L', (1, 8))],\n",
       " (4, 7): [],\n",
       " (6, 7): [('O', (6, 6)), ('L', (6, 8))],\n",
       " (1, 8): [('O', (1, 7)), ('S', (2, 8))],\n",
       " (2, 8): [('N', (1, 8)), ('S', (3, 8))],\n",
       " (3, 8): [('N', (2, 8))],\n",
       " (5, 8): [('S', (6, 8))],\n",
       " (6, 8): [('O', (6, 7)), ('N', (5, 8))]}"
      ]
     },
     "execution_count": 6,
     "metadata": {},
     "output_type": "execute_result"
    }
   ],
   "source": [
    "def maze2graph(maze):\n",
    "    height = len(maze)\n",
    "    width = len(maze[0]) if height else 0\n",
    "    graph = {(i, j): [] for j in range(width) for i in range(height) if maze[i][j]}\n",
    "    for row, col in graph.keys():\n",
    "        if not(row < height - 1 and not maze[row + 1][col]):\n",
    "            graph[(row, col)].append((\"S\", (row + 1, col)))\n",
    "            graph[(row + 1, col)].append((\"N\", (row, col)))\n",
    "        if not(col < width - 1 and not maze[row][col + 1]):\n",
    "            graph[(row, col)].append((\"L\", (row, col + 1)))\n",
    "            graph[(row, col + 1)].append((\"O\", (row, col)))\n",
    "    return graph\n",
    "grafo = maze2graph(maze)\n",
    "grafo"
   ]
  },
  {
   "cell_type": "code",
   "execution_count": 7,
   "metadata": {},
   "outputs": [],
   "source": [
    "#definindo heuristica manhattan\n",
    "def manhattan(ponto1, ponto2):\n",
    "    x_1,y_1 = ponto1\n",
    "    x_2,y_2 = ponto2\n",
    "    return np.abs(x_1 - x_2) + np.abs(y_1 - y_2)"
   ]
  },
  {
   "cell_type": "code",
   "execution_count": 8,
   "metadata": {},
   "outputs": [],
   "source": [
    "def a_search(arad, bucharest, grafo):\n",
    "    cp = [[[arad], manhattan(arad,bucharest)]] #caminhos possiveis\n",
    "    atual = arad\n",
    "    \n",
    "    while atual != bucharest:\n",
    "        caminho = cp[0][0]\n",
    "        percorridos = len(caminho)\n",
    "        \n",
    "        for cv in grafo[caminho[-1][1]]:\n",
    "            direcao, coord = cv #cv cidade vizinha\n",
    "            \n",
    "            if coord not in caminho:\n",
    "                nc = caminho.copy()\n",
    "                nc.append((direcao,coord))\n",
    "                cp.append([nc, manhattan(coord,bucharest) + percorridos])\n",
    "                \n",
    "        cp.pop(0)\n",
    "        cp.sort(key=lambda x: x[1])\n",
    "        atual = cp[0][0][-1]\n",
    "    return cp[0][0]"
   ]
  },
  {
   "cell_type": "code",
   "execution_count": 9,
   "metadata": {},
   "outputs": [],
   "source": [
    "def mata_goomba(goombas, estrela, grafo):\n",
    "    goombas.sort(key=lambda x: manhattan(x,estrela))\n",
    "    cg = [a_search(estrela,goombas[0],grafo)]\n",
    "    for i in range(len(goombas)-1):\n",
    "        goomba1 = goombas.pop(0)\n",
    "        goombas.sort(key=lambda x: manhattan(x,goomba1))\n",
    "        cg.append(a_search(goomba1,goombas[0],grafo))\n",
    "    return cg, goombas[0]"
   ]
  },
  {
   "cell_type": "code",
   "execution_count": 10,
   "metadata": {},
   "outputs": [],
   "source": [
    "ponto_inicial = (1,5)\n",
    "ponto_final = (3,3)\n",
    "ponto_estrela = (5,8)\n",
    "goombas = [(2,8),(4,6)]\n",
    "\n",
    "def resolve_labirinto(ponto_inicial, ponto_final, ponto_estrela, goombas,grafo):\n",
    "    inicial_estrela = a_search(ponto_inicial,ponto_estrela,grafo)\n",
    "    \n",
    "    for i in goombas:\n",
    "        maze[i[0]][i[1]] = 1\n",
    "        \n",
    "    grafo = maze2graph(maze)\n",
    "    \n",
    "    cg, ultimo_goomba = mata_goomba(goombas, ponto_estrela, grafo)\n",
    "    cgf = a_search(ultimo_goomba,ponto_final,grafo)\n",
    "    return inicial_estrela,cg,cgf"
   ]
  },
  {
   "cell_type": "code",
   "execution_count": 11,
   "metadata": {},
   "outputs": [
    {
     "ename": "KeyError",
     "evalue": "('S', (2, 5))",
     "output_type": "error",
     "traceback": [
      "\u001b[1;31m---------------------------------------------------------------------------\u001b[0m",
      "\u001b[1;31mKeyError\u001b[0m                                  Traceback (most recent call last)",
      "Input \u001b[1;32mIn [11]\u001b[0m, in \u001b[0;36m<cell line: 2>\u001b[1;34m()\u001b[0m\n\u001b[0;32m      1\u001b[0m \u001b[38;5;66;03m# fé\u001b[39;00m\n\u001b[1;32m----> 2\u001b[0m \u001b[43mresolve_labirinto\u001b[49m\u001b[43m(\u001b[49m\u001b[43mponto_inicial\u001b[49m\u001b[43m,\u001b[49m\u001b[43mponto_final\u001b[49m\u001b[43m,\u001b[49m\u001b[43mponto_estrela\u001b[49m\u001b[43m,\u001b[49m\u001b[43mgoombas\u001b[49m\u001b[43m,\u001b[49m\u001b[43mgrafo\u001b[49m\u001b[43m)\u001b[49m\n",
      "Input \u001b[1;32mIn [10]\u001b[0m, in \u001b[0;36mresolve_labirinto\u001b[1;34m(ponto_inicial, ponto_final, ponto_estrela, goombas, grafo)\u001b[0m\n\u001b[0;32m      6\u001b[0m \u001b[38;5;28;01mdef\u001b[39;00m \u001b[38;5;21mresolve_labirinto\u001b[39m(ponto_inicial, ponto_final, ponto_estrela, goombas,grafo):\n\u001b[1;32m----> 7\u001b[0m     inicial_estrela \u001b[38;5;241m=\u001b[39m \u001b[43ma_search\u001b[49m\u001b[43m(\u001b[49m\u001b[43mponto_inicial\u001b[49m\u001b[43m,\u001b[49m\u001b[43mponto_estrela\u001b[49m\u001b[43m,\u001b[49m\u001b[43mgrafo\u001b[49m\u001b[43m)\u001b[49m\n\u001b[0;32m      9\u001b[0m     \u001b[38;5;28;01mfor\u001b[39;00m i \u001b[38;5;129;01min\u001b[39;00m goombas:\n\u001b[0;32m     10\u001b[0m         maze[i[\u001b[38;5;241m0\u001b[39m]][i[\u001b[38;5;241m1\u001b[39m]] \u001b[38;5;241m=\u001b[39m \u001b[38;5;241m1\u001b[39m\n",
      "Input \u001b[1;32mIn [8]\u001b[0m, in \u001b[0;36ma_search\u001b[1;34m(arad, bucharest, grafo)\u001b[0m\n\u001b[0;32m      6\u001b[0m caminho \u001b[38;5;241m=\u001b[39m cp[\u001b[38;5;241m0\u001b[39m][\u001b[38;5;241m0\u001b[39m]\n\u001b[0;32m      7\u001b[0m percorridos \u001b[38;5;241m=\u001b[39m \u001b[38;5;28mlen\u001b[39m(caminho)\n\u001b[1;32m----> 9\u001b[0m \u001b[38;5;28;01mfor\u001b[39;00m cv \u001b[38;5;129;01min\u001b[39;00m \u001b[43mgrafo\u001b[49m\u001b[43m[\u001b[49m\u001b[43mcaminho\u001b[49m\u001b[43m[\u001b[49m\u001b[38;5;241;43m-\u001b[39;49m\u001b[38;5;241;43m1\u001b[39;49m\u001b[43m]\u001b[49m\u001b[43m]\u001b[49m:\n\u001b[0;32m     10\u001b[0m     direcao, coord \u001b[38;5;241m=\u001b[39m cv \u001b[38;5;66;03m#cv cidade vizinha\u001b[39;00m\n\u001b[0;32m     12\u001b[0m     \u001b[38;5;28;01mif\u001b[39;00m coord \u001b[38;5;129;01mnot\u001b[39;00m \u001b[38;5;129;01min\u001b[39;00m caminho:\n",
      "\u001b[1;31mKeyError\u001b[0m: ('S', (2, 5))"
     ]
    }
   ],
   "source": [
    "# fé\n",
    "resolve_labirinto(ponto_inicial,ponto_final,ponto_estrela,goombas,grafo)"
   ]
  },
  {
   "cell_type": "markdown",
   "metadata": {},
   "source": [
    "## Conclusão"
   ]
  },
  {
   "cell_type": "markdown",
   "metadata": {},
   "source": [
    "* Comparar algoritmos com alguns casos de Teste;\n",
    "* Interpretar resultados obtidos;\n",
    "* Considerações Finais acerca do problema."
   ]
  },
  {
   "cell_type": "markdown",
   "metadata": {},
   "source": [
    "## Referências\n"
   ]
  },
  {
   "cell_type": "markdown",
   "metadata": {},
   "source": [
    "BRATKO, I. Prolog Programming for Artificial Intelligence . Mitchell, T. Machine\n",
    "Learning , McGraw Hill, 1997.\n",
    "\n",
    "RUSSEL, S.; NORVIG, P. Artificial Intelligence : A Modern Approach. Prentice\n",
    "Hall; 3 edition (December 11, 2009).\n",
    "\n",
    "https://www.geeksforgeeks.org/difference-between-informed-and-uninformed-search-in-ai/?ref=lbp\n",
    "\n",
    "https://www.sciencedirect.com/topics/mathematics/manhattan-distance\n",
    "\n",
    "https://www.geeksforgeeks.org/difference-between-bfs-and-dfs/?ref=lbp\n",
    "\n",
    "http://theory.stanford.edu/~amitp/GameProgramming/AStarComparison.html\n",
    "\n",
    "http://theory.stanford.edu/~amitp/GameProgramming/"
   ]
  }
 ],
 "metadata": {
  "kernelspec": {
   "display_name": "Python 3 (ipykernel)",
   "language": "python",
   "name": "python3"
  },
  "language_info": {
   "codemirror_mode": {
    "name": "ipython",
    "version": 3
   },
   "file_extension": ".py",
   "mimetype": "text/x-python",
   "name": "python",
   "nbconvert_exporter": "python",
   "pygments_lexer": "ipython3",
   "version": "3.9.12"
  },
  "vscode": {
   "interpreter": {
    "hash": "cf2e631743857337d406492ed1b9086a83d96d13b04b3b704eb38b88b4c7d9bd"
   }
  }
 },
 "nbformat": 4,
 "nbformat_minor": 2
}
