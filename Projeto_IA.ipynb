{
 "cells": [
  {
   "cell_type": "markdown",
   "metadata": {},
   "source": [
    "# Problema de Busca - Super Mario Bros\n",
    "## Projeto da disciplina **SCC0230 - Inteligência Artificial**\n",
    "### Assunto: Busca Informada e Busca Cega"
   ]
  },
  {
   "cell_type": "markdown",
   "metadata": {},
   "source": [
    "## Membros\n",
    "\n",
    "* Alexandre Eduardo de Souza Jesus - alexandre_souza@usp.br - 12559506\n",
    "\n",
    "* Arthur Santorum Lorenzetto - arts.lorenzetto@usp.br -\n",
    "\n",
    "* Eduardo Zaffari Monteiro - eduardozaffarimonteiro@usp.br - \n",
    "\n",
    "* Gustavo Silva de Oliveira - gustavo.oliveira03@usp.br - 12567231 (Vice-Líder)\n",
    "\n",
    "* Lucas Ivars Cadima Ciziks - luciziks@usp.br - 125599472 (Líder)\n",
    "\n",
    "* Pedro Henrique de Freitas Maçonetto - pedromaconetto@usp.br - \n",
    "\n",
    "* Vitor Okubo Ianella - vitorok.03@gmail.com - "
   ]
  },
  {
   "cell_type": "markdown",
   "metadata": {},
   "source": [
    "## Introdução"
   ]
  },
  {
   "cell_type": "markdown",
   "metadata": {},
   "source": [
    "No mundo real, há uma infinidade de questões que podem ser classificadas como **Problemas de Busca**, tais quais a logística de entrega de um produto, o melhor caminho entre duas estações de trem e até mesmo na resolução de jogos. Nesse contexto, é importante compreender as diferentes abordagens e aplicações envolta desses problemas no estudo da Inteligência Artificial. Resumidamente, uma **Busca Cega** ou Não Informada é uma abordagem que não utiliza nenhuma informação adicional além do que definido no problema original, tentando exaustivamente até encontrar a solução ou falhar. Já a **Busca Informada** utiliza uma heurística, algum conhecimento ou informação que auxila nas decisões e torna a busca mais eficiente. Assim, o presente projeto possui como objetivo implementar e comparar os resultados entre algoritmos de Busca Cega e Busca Informada para um mesma problemática em investigação: **O Resgate da Princesa Peach**.\n",
    "\n",
    "Nesse problema, baseado no mundo fantástico de [Super Mario Bros](https://pt.wikipedia.org/wiki/Super_Mario_Bros.#Enredo), o encanador Mario precisa resgatar a Princesa Peach, raptada pelo vilão Bowser, viajando até sua ardente fortaleza. Em seu caminho, Mario deve enfrentar e derrotar os inimigos que tentarão impedir sua passagem até o castelo. Para isso, Mario precisa comer um **Cogumelo** e assim derrotá-los para finalmente chegar ao castelo e derrotar Bowser. Abstraindo para um problema de busca, Mario começa em um ponto do labirinto (estado inicial) e, antes de chegar ao castelo (estado final), ele precisa comer o **cogumelo** (primeira condição de parada) para derrotar todos os **Goombas** (obstáculos). É importante destacar que antes de comer o cogumelo, os Goombas não permitirão a passagem de Mario."
   ]
  },
  {
   "cell_type": "markdown",
   "metadata": {},
   "source": [
    "## Modelagem do Problema"
   ]
  },
  {
   "cell_type": "markdown",
   "metadata": {},
   "source": [
    "Detalhando o problema apresentado:\n",
    "\n",
    "* **Estados**: Configuração correnta da matriz esparsa;\n",
    "\n",
    "* **Operadores**: Mover o Mario uma casa em 4 direções possíveis (Leste, Oeste, Norte ou Sul);\n",
    "\n",
    "* **Movimentos Válidos**: Não parede / Não Goomba antes do Cogumelo / Goomba após o Cogumelo / Cogumelo / Cogumelo Comido;\n",
    "\n",
    "* **Configuração Final**: O Cogumelo foi comido, todos os Goombas foram derrotados e o Mario chegou ao Castelo.\n",
    "\n",
    "* **Custo do Caminho**: Cada movimento tem um custo unitário."
   ]
  },
  {
   "cell_type": "markdown",
   "metadata": {},
   "source": [
    "Em nosso processamento, a matriz de entrada contendo o labirinto será um arquivo csv, como a do exemplo utilizado. Visualmente, ela será representada da seguinte forma:\n",
    "\n",
    "![Exemplo do Labirinto](media/exemplo.png)\n",
    "\n",
    "em que:\n",
    "* 0 representa uma parede;\n",
    "* 1 é um corredor;\n",
    "* 2 é um Goomba/inimigo;\n",
    "* 3 representa o ponto inicial do Mario;\n",
    "* 4 é o castelo do Bowser (Ponto Final);\n",
    "* 5 é o cogumelo que fornece poderes ao Mario.\n"
   ]
  },
  {
   "cell_type": "markdown",
   "metadata": {},
   "source": [
    "## Busca Não Informada"
   ]
  },
  {
   "cell_type": "markdown",
   "metadata": {},
   "source": [
    "A Busca Não Informada escolhida para resolver nosso problema foi a **Busca Cega em Profundidade** (Depth-First). Isso se deve à economia de memória proporcionada quando em comparação à busca em largura (Breadth-First). A ordem de expansão definida em nosso algoritmo foi Leste, Oeste, Norte e Sul. Para computar a matriz de entrada, transformamos-na em um **Grafo**, onde mapeamos todas as possíveis extensões/caminhos de cada nó (coordenada da matriz). Isso, em conjunto com a estrutura de dados **Pilha**, auxilia a manipulação dos dados e o *backtracking* na busca.\n",
    "\n",
    "Uma adaptação necessária para nosso problema foi o reinício das posições visitadas (exceto pela posição atual) após o Mario consumir um cogumelo ou derrotar um Goomba."
   ]
  },
  {
   "cell_type": "code",
   "execution_count": 22,
   "metadata": {},
   "outputs": [],
   "source": [
    "import pandas as pd\n",
    "import numpy as np\n",
    "from collections import deque"
   ]
  },
  {
   "cell_type": "code",
   "execution_count": 23,
   "metadata": {},
   "outputs": [],
   "source": [
    "# Capturando pontos especiais\n",
    "def important_points(maze):    \n",
    "    start_point = np.where(maze == 3)\n",
    "    start = (int(start_point[0]), int(start_point[1]))\n",
    "    \n",
    "    end_point = np.where(maze == 4)\n",
    "    end = (int(end_point[0]),int(end_point[1]))\n",
    "    \n",
    "    mushroom_point = np.where(maze == 5)\n",
    "    mushroom = (int(mushroom_point[0]),int(mushroom_point[1]))\n",
    "    \n",
    "    goomba_points = np.where(maze == 2)\n",
    "    goombas_x = goomba_points[0]\n",
    "    goombas_y = goomba_points[1]\n",
    "    goombas = []\n",
    "    for i in range(len(goombas_x)):\n",
    "        goombas.append((int(goombas_x[i]), int(goombas_y[i])))\n",
    "\n",
    "        # Sem cogumelo, Goomba é interpretado como uma parede\n",
    "        maze[int(goombas_x[i])][int(goombas_y[i])] = 0\n",
    "    \n",
    "    maze[start_point] = 1\n",
    "    maze[end_point] = 1\n",
    "    \n",
    "    return start, end, mushroom, goombas"
   ]
  },
  {
   "cell_type": "code",
   "execution_count": 24,
   "metadata": {},
   "outputs": [],
   "source": [
    "# Função responsável por transformar labirinto em grafo de pontos\n",
    "def maze2graph(maze):\n",
    "    colunas = len(maze)\n",
    "    linhas = len(maze[0])\n",
    "    grafo = {(i, j): [] for j in range(linhas) for i in range(colunas) if maze[i][j]}\n",
    "    \n",
    "    for linha, coluna in grafo.keys():\n",
    "        \n",
    "        if not(linha < colunas - 1 and not maze[linha + 1][coluna]):\n",
    "            grafo[(linha, coluna)].append((\"S\", (linha + 1, coluna)))\n",
    "            grafo[(linha + 1, coluna)].append((\"N\", (linha, coluna)))\n",
    "\n",
    "        if not(coluna < linhas - 1 and not maze[linha][coluna + 1]):\n",
    "            grafo[(linha, coluna)].append((\"L\", (linha, coluna + 1)))\n",
    "            grafo[(linha, coluna + 1)].append((\"O\", (linha, coluna)))\n",
    "\n",
    "    return grafo"
   ]
  },
  {
   "cell_type": "code",
   "execution_count": 25,
   "metadata": {},
   "outputs": [],
   "source": [
    "# Implementação da Busca Cega em Profundidade\n",
    "def depth_first_algorithm(maze, start, end):\n",
    "    pilha = deque([(\"\", start)])\n",
    "    visitado = set()\n",
    "    graph = maze2graph(maze)\n",
    "    \n",
    "    while pilha:\n",
    "        caminho, atual = pilha.pop()\n",
    "        if atual == end:\n",
    "            return caminho\n",
    "\n",
    "        if atual in visitado:\n",
    "            continue\n",
    "\n",
    "        visitado.add(atual)\n",
    "        for direcao, vizinho in graph[atual]:\n",
    "            pilha.append((caminho + direcao, vizinho))\n",
    "            \n",
    "    return \"Sem caminho!\""
   ]
  },
  {
   "cell_type": "code",
   "execution_count": 26,
   "metadata": {},
   "outputs": [],
   "source": [
    "# Insere o caminho encontrado na matriz do labirinto\n",
    "def visualize_path(maze, path, start):\n",
    "    caminho_atual = start\n",
    "    path = path[0:len(path)]\n",
    "\n",
    "    for value in list(path):\n",
    "\n",
    "        if value == 'L':\n",
    "            maze[caminho_atual[0]][caminho_atual[1]] = '→'\n",
    "            caminho_atual = (caminho_atual[0], caminho_atual[1] + 1)\n",
    "\n",
    "        elif value == 'O':\n",
    "            maze[caminho_atual[0]][caminho_atual[1]] = '←'\n",
    "            caminho_atual = (caminho_atual[0], caminho_atual[1] - 1)\n",
    "\n",
    "        elif value == 'N':\n",
    "            maze[caminho_atual[0]][caminho_atual[1]] = '↑'\n",
    "            caminho_atual = (caminho_atual[0] - 1, caminho_atual[1])\n",
    "\n",
    "        elif value == 'S':\n",
    "            maze[caminho_atual[0]][caminho_atual[1]] = '↓'\n",
    "            caminho_atual = (caminho_atual[0] + 1, caminho_atual[1])\n",
    "        \n",
    "    return maze"
   ]
  },
  {
   "cell_type": "code",
   "execution_count": 27,
   "metadata": {},
   "outputs": [],
   "source": [
    "# Função responsável por copiar o labirinto\n",
    "def copy_maze(maze, start, end, mushroom, goombas):\n",
    "    maze_copy = maze.copy().tolist()\n",
    "    maze_copy[start[0]][start[1]] = 'I'\n",
    "    maze_copy[end[0]][end[1]] = 'F'\n",
    "    maze_copy[mushroom[0]][mushroom[1]] = 'C'\n",
    "    for goomba in goombas:\n",
    "        maze_copy[goomba[0]][goomba[1]] = 'G'\n",
    "    maze_copy = [[str(ele) for ele in sub] for sub in maze_copy]\n",
    "    \n",
    "    return maze_copy"
   ]
  },
  {
   "cell_type": "code",
   "execution_count": 28,
   "metadata": {},
   "outputs": [],
   "source": [
    "# Função responsável por solucionar o labirinto\n",
    "def solved_maze(maze):\n",
    "    # Recuperando pontos especiais\n",
    "    start, end, mushroom, goombas = important_points(maze)\n",
    "\n",
    "    # Encontrando o caminho entre o ponto inicial e o cogumelo (primeira condição de parada)\n",
    "    start_to_mushroom = depth_first_algorithm(maze, start, mushroom)\n",
    "\n",
    "    # Agora o Mario tem poder para derrotar o Goomba\n",
    "    for goomba in goombas:\n",
    "        maze[goomba[0]][goomba[1]] = 1\n",
    "\n",
    "    # Encontrando o caminho entre o cogumelo e o goomba\n",
    "    mushroom_to_goomba_paths = []\n",
    "    start_goomba = mushroom\n",
    "    for next_goomba in goombas:\n",
    "        mushroom_to_goomba_paths.append(depth_first_algorithm(maze, start_goomba, next_goomba))\n",
    "        start_goomba = next_goomba\n",
    "    \n",
    "    # Encontrando o caminho entre o goomba e o ponto final\n",
    "    goomba_to_end = depth_first_algorithm(maze, start_goomba, end)\n",
    "\n",
    "    # Visualizando caminhos\n",
    "    start_mushroom_matrix = visualize_path(copy_maze(maze, start, end, mushroom, goombas), start_to_mushroom, start)\n",
    "\n",
    "    mushroom_goomba_matrixes = []\n",
    "    start_goomba = mushroom\n",
    "    for i in range(len(goombas)):\n",
    "        mushroom_goomba_matrixes.append(visualize_path(copy_maze(maze, start, end, mushroom, goombas), mushroom_to_goomba_paths[i], start_goomba))\n",
    "        start_goomba = goombas[i]\n",
    "        \n",
    "    goomba_end_matrix = visualize_path(copy_maze(maze, start, end, mushroom, goombas), goomba_to_end, start_goomba)\n",
    "\n",
    "    return start_mushroom_matrix, *mushroom_goomba_matrixes, goomba_end_matrix"
   ]
  },
  {
   "cell_type": "code",
   "execution_count": 29,
   "metadata": {},
   "outputs": [
    {
     "name": "stdout",
     "output_type": "stream",
     "text": [
      "[[0 0 0 0 0 0 0]\n",
      " [0 3 1 1 2 1 0]\n",
      " [0 1 0 0 0 1 0]\n",
      " [0 1 0 5 1 2 0]\n",
      " [0 1 1 1 0 4 0]\n",
      " [0 0 0 0 0 0 0]]\n"
     ]
    }
   ],
   "source": [
    "# Lendo Labirinto do arquivo CSV\n",
    "maze_csv = pd.read_csv('mazes/maze_easy.csv')\n",
    "\n",
    "# Transformando Labirinto em matriz completa\n",
    "maze = maze_csv.to_numpy()\n",
    "\n",
    "print(maze)\n",
    "\n",
    "# Resolvendo o labirinto\n",
    "start_mushroom_matrix, *mushroom_goomba_matrixes, goomba_end_matrix = solved_maze(maze)"
   ]
  },
  {
   "cell_type": "code",
   "execution_count": 30,
   "metadata": {},
   "outputs": [
    {
     "data": {
      "text/plain": [
       "[['0', '0', '0', '0', '0', '0', '0'],\n",
       " ['0', '↓', '1', '1', 'G', '1', '0'],\n",
       " ['0', '↓', '0', '0', '0', '1', '0'],\n",
       " ['0', '↓', '0', 'C', '1', 'G', '0'],\n",
       " ['0', '→', '→', '↑', '0', 'F', '0'],\n",
       " ['0', '0', '0', '0', '0', '0', '0']]"
      ]
     },
     "execution_count": 30,
     "metadata": {},
     "output_type": "execute_result"
    }
   ],
   "source": [
    "start_mushroom_matrix"
   ]
  },
  {
   "cell_type": "code",
   "execution_count": 31,
   "metadata": {},
   "outputs": [
    {
     "data": {
      "text/plain": [
       "[[['0', '0', '0', '0', '0', '0', '0'],\n",
       "  ['0', 'I', '1', '1', 'G', '←', '0'],\n",
       "  ['0', '1', '0', '0', '0', '↑', '0'],\n",
       "  ['0', '1', '0', '→', '→', '↑', '0'],\n",
       "  ['0', '1', '1', '1', '0', 'F', '0'],\n",
       "  ['0', '0', '0', '0', '0', '0', '0']],\n",
       " [['0', '0', '0', '0', '0', '0', '0'],\n",
       "  ['0', 'I', '1', '1', '→', '↓', '0'],\n",
       "  ['0', '1', '0', '0', '0', '↓', '0'],\n",
       "  ['0', '1', '0', 'C', '1', 'G', '0'],\n",
       "  ['0', '1', '1', '1', '0', 'F', '0'],\n",
       "  ['0', '0', '0', '0', '0', '0', '0']]]"
      ]
     },
     "execution_count": 31,
     "metadata": {},
     "output_type": "execute_result"
    }
   ],
   "source": [
    "mushroom_goomba_matrixes"
   ]
  },
  {
   "cell_type": "code",
   "execution_count": 32,
   "metadata": {},
   "outputs": [
    {
     "data": {
      "text/plain": [
       "[['0', '0', '0', '0', '0', '0', '0'],\n",
       " ['0', 'I', '1', '1', 'G', '1', '0'],\n",
       " ['0', '1', '0', '0', '0', '1', '0'],\n",
       " ['0', '1', '0', 'C', '1', '↓', '0'],\n",
       " ['0', '1', '1', '1', '0', 'F', '0'],\n",
       " ['0', '0', '0', '0', '0', '0', '0']]"
      ]
     },
     "execution_count": 32,
     "metadata": {},
     "output_type": "execute_result"
    }
   ],
   "source": [
    "goomba_end_matrix"
   ]
  },
  {
   "cell_type": "markdown",
   "metadata": {},
   "source": [
    "## Busca Informada"
   ]
  },
  {
   "cell_type": "markdown",
   "metadata": {},
   "source": [
    "* Justificar escolha do algoritmo;\n",
    "* Fundamentar heurística utilizada (Admissibilidade);\n",
    "* Especificar decisões de implementação: Estruturas de Dados, manipulação dos dados, adaptações ao problema, etc."
   ]
  },
  {
   "cell_type": "code",
   "execution_count": 33,
   "metadata": {},
   "outputs": [],
   "source": [
    "# Implementar a Busca Informada do Trabalho\n",
    "# A*: https://www.geeksforgeeks.org/a-search-algorithm/\n",
    "# Greedy Best-First: https://www.geeksforgeeks.org/best-first-search-informed-search/\n"
   ]
  },
  {
   "cell_type": "code",
   "execution_count": 34,
   "metadata": {},
   "outputs": [],
   "source": [
    "maze = pd.read_csv('mazes/maze_hard.csv',header=None).values"
   ]
  },
  {
   "cell_type": "code",
   "execution_count": 35,
   "metadata": {
    "scrolled": false
   },
   "outputs": [
    {
     "data": {
      "text/plain": [
       "array([[0, 0, 0, 0, 0, 0, 0, 0, 0, 0],\n",
       "       [0, 0, 0, 0, 0, 0, 0, 0, 0, 0],\n",
       "       [0, 1, 1, 1, 1, 3, 1, 1, 1, 0],\n",
       "       [0, 1, 0, 1, 0, 1, 0, 0, 4, 0],\n",
       "       [0, 1, 0, 6, 0, 1, 0, 0, 1, 0],\n",
       "       [0, 1, 0, 0, 0, 1, 0, 1, 0, 0],\n",
       "       [0, 1, 0, 0, 0, 0, 0, 0, 5, 0],\n",
       "       [0, 1, 1, 1, 1, 1, 1, 1, 1, 0],\n",
       "       [0, 0, 0, 0, 0, 0, 0, 0, 0, 0]], dtype=int64)"
      ]
     },
     "execution_count": 35,
     "metadata": {},
     "output_type": "execute_result"
    }
   ],
   "source": [
    "maze"
   ]
  },
  {
   "cell_type": "code",
   "execution_count": 36,
   "metadata": {},
   "outputs": [
    {
     "data": {
      "text/plain": [
       "{(2, 1): [('S', (3, 1)), ('L', (2, 2))],\n",
       " (3, 1): [('N', (2, 1)), ('S', (4, 1))],\n",
       " (4, 1): [('N', (3, 1)), ('S', (5, 1))],\n",
       " (5, 1): [('N', (4, 1)), ('S', (6, 1))],\n",
       " (6, 1): [('N', (5, 1)), ('S', (7, 1))],\n",
       " (7, 1): [('N', (6, 1)), ('L', (7, 2))],\n",
       " (2, 2): [('O', (2, 1)), ('L', (2, 3))],\n",
       " (7, 2): [('O', (7, 1)), ('L', (7, 3))],\n",
       " (2, 3): [('O', (2, 2)), ('S', (3, 3)), ('L', (2, 4))],\n",
       " (3, 3): [('N', (2, 3)), ('S', (4, 3))],\n",
       " (4, 3): [('N', (3, 3))],\n",
       " (7, 3): [('O', (7, 2)), ('L', (7, 4))],\n",
       " (2, 4): [('O', (2, 3)), ('L', (2, 5))],\n",
       " (7, 4): [('O', (7, 3)), ('L', (7, 5))],\n",
       " (2, 5): [('O', (2, 4)), ('S', (3, 5)), ('L', (2, 6))],\n",
       " (3, 5): [('N', (2, 5)), ('S', (4, 5))],\n",
       " (4, 5): [('N', (3, 5)), ('S', (5, 5))],\n",
       " (5, 5): [('N', (4, 5))],\n",
       " (7, 5): [('O', (7, 4)), ('L', (7, 6))],\n",
       " (2, 6): [('O', (2, 5)), ('L', (2, 7))],\n",
       " (7, 6): [('O', (7, 5)), ('L', (7, 7))],\n",
       " (2, 7): [('O', (2, 6)), ('L', (2, 8))],\n",
       " (5, 7): [],\n",
       " (7, 7): [('O', (7, 6)), ('L', (7, 8))],\n",
       " (2, 8): [('O', (2, 7)), ('S', (3, 8))],\n",
       " (3, 8): [('N', (2, 8)), ('S', (4, 8))],\n",
       " (4, 8): [('N', (3, 8))],\n",
       " (6, 8): [('S', (7, 8))],\n",
       " (7, 8): [('O', (7, 7)), ('N', (6, 8))]}"
      ]
     },
     "execution_count": 36,
     "metadata": {},
     "output_type": "execute_result"
    }
   ],
   "source": [
    "def maze2graph(maze):\n",
    "    height = len(maze)\n",
    "    width = len(maze[0]) if height else 0\n",
    "    graph = {(i, j): [] for j in range(width) for i in range(height) if maze[i][j]}\n",
    "    for row, col in graph.keys():\n",
    "        if not(row < height - 1 and not maze[row + 1][col]):\n",
    "            graph[(row, col)].append((\"S\", (row + 1, col)))\n",
    "            graph[(row + 1, col)].append((\"N\", (row, col)))\n",
    "        if not(col < width - 1 and not maze[row][col + 1]):\n",
    "            graph[(row, col)].append((\"L\", (row, col + 1)))\n",
    "            graph[(row, col + 1)].append((\"O\", (row, col)))\n",
    "    return graph\n",
    "grafo = maze2graph(maze)\n",
    "grafo"
   ]
  },
  {
   "cell_type": "code",
   "execution_count": 37,
   "metadata": {},
   "outputs": [],
   "source": [
    "#definindo heuristica manhattan\n",
    "def manhattan(ponto1, ponto2):\n",
    "    x_1,y_1 = ponto1\n",
    "    x_2,y_2 = ponto2\n",
    "    return np.abs(x_1 - x_2) + np.abs(y_1 - y_2)"
   ]
  },
  {
   "cell_type": "code",
   "execution_count": 38,
   "metadata": {},
   "outputs": [],
   "source": [
    "def a_search(arad, bucharest, grafo):\n",
    "    cp = [[[arad], manhattan(arad,bucharest)]] #caminhos possiveis\n",
    "    atual = arad\n",
    "    \n",
    "    while atual != bucharest:\n",
    "        caminho = cp[0][0]\n",
    "        percorridos = len(caminho)\n",
    "        \n",
    "        for cv in grafo[caminho[-1][1]]:\n",
    "            direcao, coord = cv #cv cidade vizinha\n",
    "            \n",
    "            if coord not in caminho:\n",
    "                nc = caminho.copy()\n",
    "                nc.append((direcao,coord))\n",
    "                cp.append([nc, manhattan(coord,bucharest) + percorridos])\n",
    "                \n",
    "        cp.pop(0)\n",
    "        cp.sort(key=lambda x: x[1])\n",
    "        atual = cp[0][0][-1]\n",
    "    return cp[0][0]"
   ]
  },
  {
   "cell_type": "code",
   "execution_count": 39,
   "metadata": {},
   "outputs": [],
   "source": [
    "def mata_goomba(goombas, estrela, grafo):\n",
    "    goombas.sort(key=lambda x: manhattan(x,estrela))\n",
    "    cg = [a_search(estrela,goombas[0],grafo)]\n",
    "    for i in range(len(goombas)-1):\n",
    "        goomba1 = goombas.pop(0)\n",
    "        goombas.sort(key=lambda x: manhattan(x,goomba1))\n",
    "        cg.append(a_search(goomba1,goombas[0],grafo))\n",
    "    return cg, goombas[0]"
   ]
  },
  {
   "cell_type": "code",
   "execution_count": 40,
   "metadata": {},
   "outputs": [],
   "source": [
    "ponto_inicial = (1,5)\n",
    "ponto_final = (3,3)\n",
    "ponto_estrela = (5,8)\n",
    "goombas = [(2,8),(4,6)]\n",
    "\n",
    "def resolve_labirinto(ponto_inicial, ponto_final, ponto_estrela, goombas,grafo):\n",
    "    inicial_estrela = a_search(ponto_inicial,ponto_estrela,grafo)\n",
    "    \n",
    "    for i in goombas:\n",
    "        maze[i[0]][i[1]] = 1\n",
    "        \n",
    "    grafo = maze2graph(maze)\n",
    "    \n",
    "    cg, ultimo_goomba = mata_goomba(goombas, ponto_estrela, grafo)\n",
    "    cgf = a_search(ultimo_goomba,ponto_final,grafo)\n",
    "    return inicial_estrela,cg,cgf"
   ]
  },
  {
   "cell_type": "code",
   "execution_count": 41,
   "metadata": {},
   "outputs": [
    {
     "ename": "KeyError",
     "evalue": "5",
     "output_type": "error",
     "traceback": [
      "\u001b[1;31m---------------------------------------------------------------------------\u001b[0m",
      "\u001b[1;31mKeyError\u001b[0m                                  Traceback (most recent call last)",
      "Cell \u001b[1;32mIn [41], line 2\u001b[0m\n\u001b[0;32m      1\u001b[0m \u001b[39m# fé\u001b[39;00m\n\u001b[1;32m----> 2\u001b[0m resolve_labirinto(ponto_inicial,ponto_final,ponto_estrela,goombas,grafo)\n",
      "Cell \u001b[1;32mIn [40], line 7\u001b[0m, in \u001b[0;36mresolve_labirinto\u001b[1;34m(ponto_inicial, ponto_final, ponto_estrela, goombas, grafo)\u001b[0m\n\u001b[0;32m      6\u001b[0m \u001b[39mdef\u001b[39;00m \u001b[39mresolve_labirinto\u001b[39m(ponto_inicial, ponto_final, ponto_estrela, goombas,grafo):\n\u001b[1;32m----> 7\u001b[0m     inicial_estrela \u001b[39m=\u001b[39m a_search(ponto_inicial,ponto_estrela,grafo)\n\u001b[0;32m      9\u001b[0m     \u001b[39mfor\u001b[39;00m i \u001b[39min\u001b[39;00m goombas:\n\u001b[0;32m     10\u001b[0m         maze[i[\u001b[39m0\u001b[39m]][i[\u001b[39m1\u001b[39m]] \u001b[39m=\u001b[39m \u001b[39m1\u001b[39m\n",
      "Cell \u001b[1;32mIn [38], line 9\u001b[0m, in \u001b[0;36ma_search\u001b[1;34m(arad, bucharest, grafo)\u001b[0m\n\u001b[0;32m      6\u001b[0m caminho \u001b[39m=\u001b[39m cp[\u001b[39m0\u001b[39m][\u001b[39m0\u001b[39m]\n\u001b[0;32m      7\u001b[0m percorridos \u001b[39m=\u001b[39m \u001b[39mlen\u001b[39m(caminho)\n\u001b[1;32m----> 9\u001b[0m \u001b[39mfor\u001b[39;00m cv \u001b[39min\u001b[39;00m grafo[caminho[\u001b[39m-\u001b[39;49m\u001b[39m1\u001b[39;49m][\u001b[39m1\u001b[39;49m]]:\n\u001b[0;32m     10\u001b[0m     direcao, coord \u001b[39m=\u001b[39m cv \u001b[39m#cv cidade vizinha\u001b[39;00m\n\u001b[0;32m     12\u001b[0m     \u001b[39mif\u001b[39;00m coord \u001b[39mnot\u001b[39;00m \u001b[39min\u001b[39;00m caminho:\n",
      "\u001b[1;31mKeyError\u001b[0m: 5"
     ]
    }
   ],
   "source": [
    "# fé\n",
    "resolve_labirinto(ponto_inicial,ponto_final,ponto_estrela,goombas,grafo)"
   ]
  },
  {
   "cell_type": "markdown",
   "metadata": {},
   "source": [
    "## Conclusão"
   ]
  },
  {
   "cell_type": "markdown",
   "metadata": {},
   "source": [
    "* Comparar algoritmos com alguns casos de Teste;\n",
    "* Interpretar resultados obtidos;\n",
    "* Considerações Finais acerca do problema."
   ]
  },
  {
   "cell_type": "markdown",
   "metadata": {},
   "source": [
    "## Referências\n"
   ]
  },
  {
   "cell_type": "markdown",
   "metadata": {},
   "source": [
    "BRATKO, I. Prolog Programming for Artificial Intelligence . Mitchell, T. Machine\n",
    "Learning , McGraw Hill, 1997.\n",
    "\n",
    "RUSSEL, S.; NORVIG, P. Artificial Intelligence : A Modern Approach. Prentice\n",
    "Hall; 3 edition (December 11, 2009).\n",
    "\n",
    "https://www.geeksforgeeks.org/difference-between-informed-and-uninformed-search-in-ai/?ref=lbp\n",
    "\n",
    "https://www.sciencedirect.com/topics/mathematics/manhattan-distance\n",
    "\n",
    "https://www.geeksforgeeks.org/difference-between-bfs-and-dfs/?ref=lbp\n",
    "\n",
    "http://theory.stanford.edu/~amitp/GameProgramming/AStarComparison.html\n",
    "\n",
    "http://theory.stanford.edu/~amitp/GameProgramming/"
   ]
  }
 ],
 "metadata": {
  "kernelspec": {
   "display_name": "Python 3.10.7 64-bit",
   "language": "python",
   "name": "python3"
  },
  "language_info": {
   "codemirror_mode": {
    "name": "ipython",
    "version": 3
   },
   "file_extension": ".py",
   "mimetype": "text/x-python",
   "name": "python",
   "nbconvert_exporter": "python",
   "pygments_lexer": "ipython3",
   "version": "3.10.7"
  },
  "vscode": {
   "interpreter": {
    "hash": "8c2e15034f07720a3e57266749b805dbe4b964ae6e11e3a0ca2f3b08408e10de"
   }
  }
 },
 "nbformat": 4,
 "nbformat_minor": 2
}
