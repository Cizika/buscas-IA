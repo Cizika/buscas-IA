{
 "cells": [
  {
   "cell_type": "markdown",
   "metadata": {},
   "source": [
    "# Problema de Busca - Super Mario Bros\n",
    "## Projeto da disciplina **SCC0230 - Inteligência Artificial**\n",
    "### Assunto: Busca Informada e Busca Cega"
   ]
  },
  {
   "cell_type": "markdown",
   "metadata": {},
   "source": [
    "## Membros\n",
    "\n",
    "* Alexandre Eduardo de Souza Jesus - alexandre_souza@usp.br - 12559506\n",
    "\n",
    "* Arthur Santorum Lorenzetto - arts.lorenzetto@usp.br -\n",
    "\n",
    "* Eduardo Zaffari Monteiro - eduardozaffarimonteiro@usp.br - \n",
    "\n",
    "* Gustavo Silva de Oliveira - gustavo.oliveira03@usp.br - 12567231 (Vice-Líder)\n",
    "\n",
    "* Lucas Ivars Cadima Ciziks - luciziks@usp.br - 125599472 (Líder)\n",
    "\n",
    "* Pedro Henrique de Freitas Maçonetto - pedromaconetto@usp.br - \n",
    "\n",
    "* Vitor Okubo Ianella - vitorok.03@gmail.com - "
   ]
  },
  {
   "cell_type": "markdown",
   "metadata": {},
   "source": [
    "## Introdução"
   ]
  },
  {
   "cell_type": "markdown",
   "metadata": {},
   "source": [
    "No mundo real, há uma infinidade de questões que podem ser classificadas como **Problemas de Busca**, tais quais a logística de entrega de um produto, o melhor caminho entre duas estações de trem e até mesmo na resolução de jogos. Nesse contexto, é importante compreender as diferentes abordagens e aplicações envolta desses problemas no estudo da Inteligência Artificial. Resumidamente, uma **Busca Cega** ou Não Informada é uma abordagem que não utiliza nenhuma informação adicional além do que definido no problema original, tentando exaustivamente até encontrar a solução ou falhar. Já a **Busca Informada** utiliza uma heurística, algum conhecimento ou informação que auxila nas decisões e torna a busca mais eficiente. Assim, o presente projeto possui como objetivo implementar e comparar os resultados entre algoritmos de Busca Cega e Busca Informada para um mesma problemática em investigação: **O Resgate da Princesa Peach**.\n",
    "\n",
    "Nesse problema, baseado no mundo fantástico de ![Super Mario Bros](https://pt.wikipedia.org/wiki/Super_Mario_Bros.#Enredo), o encanador Mario precisa resgatar a Princesa Peach, raptada pelo vilão Bowser, viajando até sua ardente fortaleza. Em seu caminho, Mario deve enfrentar e derrotar os inimigos que tentarão impedir sua passagem até o castelo. Para isso, Mario precisa comer um **Cogumelo** e assim derrotá-los para finalmente chegar ao castelo e derrotar Bowser. Abstraindo para um problema de busca, Mario começa em um ponto do labirinto (estado inicial) e, antes de chegar ao castelo (estado final), ele precisa comer o **cogumelo** (primeira condição de parada) para derrotar todos os **Goombas** (obstáculos). É importante destacar que antes de comer o cogumelo, os Goombas não permitirão a passagem de Mario."
   ]
  },
  {
   "cell_type": "markdown",
   "metadata": {},
   "source": [
    "## Modelagem do Problema"
   ]
  },
  {
   "cell_type": "markdown",
   "metadata": {},
   "source": [
    "Detalhando o problema apresentado:\n",
    "\n",
    "* **Estados**: Configuração correnta da matriz esparsa;\n",
    "\n",
    "* **Operadores**: Mover o Mario uma casa em 4 direções possíveis (Leste, Oeste, Norte ou Sul);\n",
    "\n",
    "* **Movimentos Válidos**: Não parede / Não Goomba antes do Cogumelo / Goomba após o Cogumelo / Cogumelo / Cogumelo Comido;\n",
    "\n",
    "* **Configuração Final**: O Cogumelo foi comido, todos os Goombas foram derrotados e o Mario chegou ao Castelo.\n",
    "\n",
    "* **Custo do Caminho**: Cada movimento tem um custo unitário."
   ]
  },
  {
   "cell_type": "code",
   "execution_count": 7,
   "metadata": {},
   "outputs": [],
   "source": [
    "import numpy as np\n",
    "import pandas as pd"
   ]
  },
  {
   "cell_type": "code",
   "execution_count": 8,
   "metadata": {},
   "outputs": [
    {
     "data": {
      "text/plain": [
       "array([[0., 0., 0., 0., 0., 0., 0.],\n",
       "       [0., 3., 1., 1., 1., 1., 0.],\n",
       "       [0., 1., 0., 0., 0., 1., 0.],\n",
       "       [0., 1., 0., 1., 1., 1., 0.],\n",
       "       [0., 1., 1., 1., 0., 4., 0.],\n",
       "       [0., 0., 0., 0., 0., 0., 0.]])"
      ]
     },
     "execution_count": 8,
     "metadata": {},
     "output_type": "execute_result"
    }
   ],
   "source": [
    "labirinto = np.genfromtxt('labirinto.csv', delimiter=',')\n",
    "labirinto"
   ]
  },
  {
   "cell_type": "markdown",
   "metadata": {},
   "source": [
    "## Busca Não Informada"
   ]
  },
  {
   "cell_type": "markdown",
   "metadata": {},
   "source": [
    "* Justificar escolha do algoritmo;\n",
    "* Especificar decisões de implementação: Estruturas de Dados, manipulação dos dados, adaptações ao problema, etc."
   ]
  },
  {
   "cell_type": "code",
   "execution_count": 3,
   "metadata": {},
   "outputs": [],
   "source": [
    "# Implementar a Busca Cega do Trabalho (Busca em Profundidade)\n",
    "# Em Profundidade: https://www.geeksforgeeks.org/depth-first-search-or-dfs-for-a-graph/?ref=lbp\n"
   ]
  },
  {
   "cell_type": "markdown",
   "metadata": {},
   "source": [
    "## Busca Informada"
   ]
  },
  {
   "cell_type": "markdown",
   "metadata": {},
   "source": [
    "* Justificar escolha do algoritmo;\n",
    "* Fundamentar heurística utilizada (Admissibilidade);\n",
    "* Especificar decisões de implementação: Estruturas de Dados, manipulação dos dados, adaptações ao problema, etc."
   ]
  },
  {
   "cell_type": "code",
   "execution_count": 4,
   "metadata": {},
   "outputs": [],
   "source": [
    "# Implementar a Busca Informada do Trabalho\n",
    "# A*: https://www.geeksforgeeks.org/a-search-algorithm/\n",
    "# Greedy Best-First: https://www.geeksforgeeks.org/best-first-search-informed-search/\n"
   ]
  },
  {
   "cell_type": "markdown",
   "metadata": {},
   "source": [
    "## Conclusão"
   ]
  },
  {
   "cell_type": "markdown",
   "metadata": {},
   "source": [
    "* Comparar algoritmos com alguns casos de Teste;\n",
    "* Interpretar resultados obtidos;\n",
    "* Considerações Finais acerca do problema."
   ]
  },
  {
   "cell_type": "markdown",
   "metadata": {},
   "source": [
    "## Referências\n"
   ]
  },
  {
   "cell_type": "markdown",
   "metadata": {},
   "source": [
    "BRATKO, I. Prolog Programming for Artificial Intelligence . Mitchell, T. Machine\n",
    "Learning , McGraw Hill, 1997.\n",
    "\n",
    "RUSSEL, S.; NORVIG, P. Artificial Intelligence : A Modern Approach. Prentice\n",
    "Hall; 3 edition (December 11, 2009).\n",
    "\n",
    "https://www.geeksforgeeks.org/difference-between-informed-and-uninformed-search-in-ai/?ref=lbp\n",
    "\n",
    "https://www.sciencedirect.com/topics/mathematics/manhattan-distance\n",
    "\n",
    "https://www.geeksforgeeks.org/difference-between-bfs-and-dfs/?ref=lbp\n",
    "\n",
    "http://theory.stanford.edu/~amitp/GameProgramming/AStarComparison.html\n",
    "\n",
    "http://theory.stanford.edu/~amitp/GameProgramming/"
   ]
  }
 ],
 "metadata": {
  "kernelspec": {
   "display_name": "Python 3.9.13 64-bit (microsoft store)",
   "language": "python",
   "name": "python3"
  },
  "language_info": {
   "codemirror_mode": {
    "name": "ipython",
    "version": 3
   },
   "file_extension": ".py",
   "mimetype": "text/x-python",
   "name": "python",
   "nbconvert_exporter": "python",
   "pygments_lexer": "ipython3",
   "version": "3.9.13"
  },
  "vscode": {
   "interpreter": {
    "hash": "cf2e631743857337d406492ed1b9086a83d96d13b04b3b704eb38b88b4c7d9bd"
   }
  }
 },
 "nbformat": 4,
 "nbformat_minor": 2
}
