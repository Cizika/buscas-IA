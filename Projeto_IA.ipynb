{
 "cells": [
  {
   "cell_type": "markdown",
   "metadata": {},
   "source": [
    "# Problema de Busca - Super Mario Bros\n",
    "## Projeto da disciplina **SCC0230 - Inteligência Artificial**\n",
    "### Assunto: Busca Informada e Busca Cega"
   ]
  },
  {
   "cell_type": "markdown",
   "metadata": {},
   "source": [
    "## Membros\n",
    "\n",
    "* Alexandre Eduardo de Souza Jesus - alexandre_souza@usp.br - 12559506\n",
    "\n",
    "* Arthur Santorum Lorenzetto - arts.lorenzetto@usp.br -\n",
    "\n",
    "* Eduardo Zaffari Monteiro - eduardozaffarimonteiro@usp.br - \n",
    "\n",
    "* Gustavo Silva de Oliveira - gustavo.oliveira03@usp.br - 12567231 (Vice-Líder)\n",
    "\n",
    "* Lucas Ivars Cadima Ciziks - luciziks@usp.br - 125599472 (Líder)\n",
    "\n",
    "* Pedro Henrique de Freitas Maçonetto - pedromaconetto@usp.br - \n",
    "\n",
    "* Vitor Okubo Ianella - vitorok.03@gmail.com - "
   ]
  },
  {
   "cell_type": "markdown",
   "metadata": {},
   "source": [
    "## Introdução"
   ]
  },
  {
   "cell_type": "markdown",
   "metadata": {},
   "source": [
    "* Motivação = Descrever o objetivo do trabalho;\n",
    "* Especificação = Explicar a temática do problema e ferramentas utilizadas;\n",
    "* Contextualização = Resumir as estratégias abordadas."
   ]
  },
  {
   "cell_type": "markdown",
   "metadata": {},
   "source": []
  },
  {
   "cell_type": "markdown",
   "metadata": {},
   "source": [
    "## Modelagem do Problema"
   ]
  },
  {
   "cell_type": "markdown",
   "metadata": {},
   "source": [
    "Descrever os seguintes aspectos do problema:\n",
    "* Estados;\n",
    "* Operadores;\n",
    "* Movimentos válidos;\n",
    "* Configuração final.\n",
    "\n",
    "Detalhar visualmente o Espaço de Estados (Matriz Esparsa)"
   ]
  },
  {
   "cell_type": "code",
   "execution_count": 7,
   "metadata": {},
   "outputs": [],
   "source": [
    "import numpy as np\n",
    "import pandas as pd"
   ]
  },
  {
   "cell_type": "code",
   "execution_count": 8,
   "metadata": {},
   "outputs": [
    {
     "data": {
      "text/plain": [
       "array([[0., 0., 0., 0., 0., 0., 0.],\n",
       "       [0., 3., 1., 1., 1., 1., 0.],\n",
       "       [0., 1., 0., 0., 0., 1., 0.],\n",
       "       [0., 1., 0., 1., 1., 1., 0.],\n",
       "       [0., 1., 1., 1., 0., 4., 0.],\n",
       "       [0., 0., 0., 0., 0., 0., 0.]])"
      ]
     },
     "execution_count": 8,
     "metadata": {},
     "output_type": "execute_result"
    }
   ],
   "source": [
    "labirinto = np.genfromtxt('labirinto.csv', delimiter=',')\n",
    "labirinto"
   ]
  },
  {
   "cell_type": "markdown",
   "metadata": {},
   "source": [
    "## Busca Não Informada"
   ]
  },
  {
   "cell_type": "markdown",
   "metadata": {},
   "source": [
    "* Justificar escolha do algoritmo;\n",
    "* Especificar decisões de implementação: Estruturas de Dados, manipulação dos dados, adaptações ao problema, etc."
   ]
  },
  {
   "cell_type": "code",
   "execution_count": 37,
   "metadata": {},
   "outputs": [
    {
     "data": {
      "text/plain": [
       "[['0', '0', '0', '0', '0', '0', '0', '0'],\n",
       " ['0', 'S', '1', '1', 'G', '1', '0', '0'],\n",
       " ['0', '↓', '0', '0', '0', '1', '0', '0'],\n",
       " ['0', '1', '0', 'C', '→', '1', '0', '0'],\n",
       " ['0', '1', '1', '1', '0', 'E', '0', '0'],\n",
       " ['0', '0', '0', '0', '0', '0', '0', '0']]"
      ]
     },
     "execution_count": 37,
     "metadata": {},
     "output_type": "execute_result"
    }
   ],
   "source": [
    "# Implementar a Busca Cega do Trabalho (Busca em Profundidade)\n",
    "# Em Profundidade: https://www.geeksforgeeks.org/depth-first-search-or-dfs-for-a-graph/?ref=lbp\n",
    "# Implementar a Busca Cega do Trabalho (Busca em Profundidade ou em Largura)\n",
    "# Em Largura: https://www.geeksforgeeks.org/breadth-first-search-or-bfs-for-a-graph/\n",
    "# Em Profundidade: https://www.geeksforgeeks.org/depth-first-search-or-dfs-for-a-graph/?ref=lbp\n",
    "import pandas as pd\n",
    "import numpy as np\n",
    "from collections import deque\n",
    "\n",
    "lab = pd.read_csv('labirinto.csv')\n",
    "lab = lab.to_numpy()\n",
    "\n",
    "def get_values():\n",
    "    \n",
    "    start = np.where(lab==3)\n",
    "    i = int(start[0])\n",
    "    j = int(start[1])\n",
    "    start = (i,j)\n",
    "    \n",
    "    end = np.where(lab==4)\n",
    "    i = int(end[0])\n",
    "    j = int(end[1])\n",
    "    end = (i,j)\n",
    "    \n",
    "    cogu = np.where(lab==5)\n",
    "    i = int(cogu[0])\n",
    "    j = int(cogu[1])\n",
    "    cogu = (i,j)\n",
    "    \n",
    "    goomba = np.where(lab==2)\n",
    "    i = int(goomba[0])\n",
    "    j = int(goomba[1])\n",
    "    goomba = (i,j)\n",
    "\n",
    "    where_2 = np.where(lab == 2)\n",
    "    where_3 = np.where(lab == 3)\n",
    "    where_4 = np.where(lab == 4)\n",
    "    lab[where_3] = 1\n",
    "    lab[where_4] = 1\n",
    "    lab[where_2] = 0\n",
    "    \n",
    "    \n",
    "    return start, end, cogu, goomba\n",
    "\n",
    "def maze2graph(maze):\n",
    "    height = len(maze)\n",
    "    width = len(maze[0]) if height else 0\n",
    "    graph = {(i, j): [] for j in range(width) for i in range(height) if maze[i][j]}\n",
    "    for row, col in graph.keys():\n",
    "        if not(row < height - 1 and not maze[row + 1][col]):\n",
    "            graph[(row, col)].append((\"S\", (row + 1, col)))\n",
    "            graph[(row + 1, col)].append((\"N\", (row, col)))\n",
    "        if not(col < width - 1 and not maze[row][col + 1]):\n",
    "            graph[(row, col)].append((\"L\", (row, col + 1)))\n",
    "            graph[(row, col + 1)].append((\"O\", (row, col)))\n",
    "    return graph\n",
    "\n",
    "def find_path_dfs(start, end):\n",
    "    stack = deque([(\"\", start)])\n",
    "    visited = set()\n",
    "    graph = maze2graph(lab)\n",
    "    while stack:\n",
    "        path, current = stack.pop()\n",
    "        if current == end:\n",
    "            return path\n",
    "        if current in visited:\n",
    "            continue\n",
    "        visited.add(current)\n",
    "        for direction, neighbour in graph[current]:\n",
    "            stack.append((path + direction, neighbour))\n",
    "    return \"NO WAY!\"\n",
    "\n",
    "start, end, cogu, goomba = get_values()\n",
    "start_to_cogu = find_path_dfs(start, cogu)\n",
    "\n",
    "lab[goomba[0]][goomba[1]] = 1\n",
    "\n",
    "cogu_to_goomba = find_path_dfs(cogu, goomba)\n",
    "goomba_to_end = find_path_dfs(goomba, end)\n",
    "\n",
    "lab_matrix = lab.tolist()\n",
    "lab_matrix[start[0]][start[1]] = 'S'\n",
    "lab_matrix[end[0]][end[1]] = 'E'\n",
    "lab_matrix[cogu[0]][cogu[1]] = 'C'\n",
    "lab_matrix[goomba[0]][goomba[1]] = 'G'\n",
    "lab_matrix = [[str(ele) for ele in sub] for sub in lab_matrix]\n",
    "\n",
    "\n",
    "def make_path(maze, path, start):\n",
    "    caminho_atual = start\n",
    "    path = path[0:len(path)-1]\n",
    "    for value in list(path):\n",
    "        if value == 'L':\n",
    "            caminho_atual = (caminho_atual[0], caminho_atual[1]+1)\n",
    "            maze[caminho_atual[0]][caminho_atual[1]] = '→'\n",
    "        elif value == 'O':\n",
    "            caminho_atual = (caminho_atual[0], caminho_atual[1]-1)\n",
    "            maze[caminho_atual[0]][caminho_atual[1]] = '←'\n",
    "        elif value == 'N':\n",
    "            caminho_atual = (caminho_atual[0]-1, caminho_atual[1])\n",
    "            maze[caminho_atual[0]][caminho_atual[1]] = '↑'\n",
    "        else:\n",
    "            caminho_atual = (caminho_atual[0]+1, caminho_atual[1])\n",
    "            maze[caminho_atual[0]][caminho_atual[1]] = '↓'\n",
    "        \n",
    "        return maze\n",
    "\n",
    "lab_matrix_1 = make_path(lab_matrix,start_to_cogu,start)\n",
    "lab_matrix_2 = make_path(lab_matrix,cogu_to_goomba,cogu)\n",
    "\n",
    "lab_matrix\n",
    "# print(start_to_cogu, cogu_to_goomba, goomba_to_end)\n",
    "# print(lab)"
   ]
  },
  {
   "cell_type": "markdown",
   "metadata": {},
   "source": [
    "## Busca Informada"
   ]
  },
  {
   "cell_type": "markdown",
   "metadata": {},
   "source": [
    "* Justificar escolha do algoritmo;\n",
    "* Fundamentar heurística utilizada (Admissibilidade);\n",
    "* Especificar decisões de implementação: Estruturas de Dados, manipulação dos dados, adaptações ao problema, etc."
   ]
  },
  {
   "cell_type": "code",
   "execution_count": 46,
   "metadata": {},
   "outputs": [],
   "source": [
    "# Implementar a Busca Informada do Trabalho\n",
    "# A*: https://www.geeksforgeeks.org/a-search-algorithm/\n",
    "# Greedy Best-First: https://www.geeksforgeeks.org/best-first-search-informed-search/\n"
   ]
  },
  {
   "cell_type": "markdown",
   "metadata": {},
   "source": [
    "## Conclusão"
   ]
  },
  {
   "cell_type": "markdown",
   "metadata": {},
   "source": [
    "* Comparar algoritmos com alguns casos de Teste;\n",
    "* Interpretar resultados obtidos;\n",
    "* Considerações Finais acerca do problema."
   ]
  },
  {
   "cell_type": "markdown",
   "metadata": {},
   "source": [
    "## Referências\n"
   ]
  },
  {
   "cell_type": "markdown",
   "metadata": {},
   "source": [
    "BRATKO, I. Prolog Programming for Artificial Intelligence . Mitchell, T. Machine\n",
    "Learning , McGraw Hill, 1997.\n",
    "\n",
    "RUSSEL, S.; NORVIG, P. Artificial Intelligence : A Modern Approach. Prentice\n",
    "Hall; 3 edition (December 11, 2009).\n",
    "\n",
    "https://www.geeksforgeeks.org/difference-between-informed-and-uninformed-search-in-ai/?ref=lbp\n",
    "\n",
    "https://www.sciencedirect.com/topics/mathematics/manhattan-distance\n",
    "\n",
    "https://www.geeksforgeeks.org/difference-between-bfs-and-dfs/?ref=lbp\n",
    "\n",
    "http://theory.stanford.edu/~amitp/GameProgramming/AStarComparison.html\n",
    "\n",
    "http://theory.stanford.edu/~amitp/GameProgramming/"
   ]
  },
  {
   "cell_type": "code",
   "execution_count": null,
   "metadata": {},
   "outputs": [],
   "source": []
  }
 ],
 "metadata": {
  "kernelspec": {
   "display_name": "Python 3 (ipykernel)",
   "language": "python",
   "name": "python3"
  },
  "language_info": {
   "codemirror_mode": {
    "name": "ipython",
    "version": 3
   },
   "file_extension": ".py",
   "mimetype": "text/x-python",
   "name": "python",
   "nbconvert_exporter": "python",
   "pygments_lexer": "ipython3",
   "version": "3.9.12"
  },
  "vscode": {
   "interpreter": {
    "hash": "cf2e631743857337d406492ed1b9086a83d96d13b04b3b704eb38b88b4c7d9bd"
   }
  }
 },
 "nbformat": 4,
 "nbformat_minor": 2
}
