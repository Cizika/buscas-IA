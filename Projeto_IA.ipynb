{
 "cells": [
  {
   "cell_type": "markdown",
   "metadata": {},
   "source": [
    "# Problema de Busca - Super Mario Bros\n",
    "## Projeto da disciplina **SCC0230 - Inteligência Artificial**\n",
    "### Assunto: Busca Informada e Busca Cega"
   ]
  },
  {
   "cell_type": "markdown",
   "metadata": {},
   "source": [
    "## Membros\n",
    "\n",
    "* Alexandre Eduardo de Souza Jesus - alexandre_souza@usp.br - 12559506\n",
    "\n",
    "* Arthur Santorum Lorenzetto - arts.lorenzetto@usp.br -\n",
    "\n",
    "* Eduardo Zaffari Monteiro - eduardozaffarimonteiro@usp.br - \n",
    "\n",
    "* Gustavo Silva de Oliveira - gustavo.oliveira03@usp.br - 12567231 (Vice-Líder)\n",
    "\n",
    "* Lucas Ivars Cadima Ciziks - luciziks@usp.br - 125599472 (Líder)\n",
    "\n",
    "* Pedro Henrique de Freitas Maçonetto - pedromaconetto@usp.br - \n",
    "\n",
    "* Vitor Okubo Ianella - vitorok.03@gmail.com - "
   ]
  },
  {
   "cell_type": "markdown",
   "metadata": {},
   "source": [
    "## Introdução"
   ]
  },
  {
   "cell_type": "markdown",
   "metadata": {},
   "source": [
    "No mundo real, há uma infinidade de questões que podem ser classificadas como **Problemas de Busca**, tais quais a logística de entrega de um produto, o melhor caminho entre duas estações de trem e até mesmo na resolução de jogos. Nesse contexto, é importante compreender as diferentes abordagens e aplicações envolta desses problemas no estudo da Inteligência Artificial. Resumidamente, uma **Busca Cega** ou Não Informada é uma abordagem que não utiliza nenhuma informação adicional além do que definido no problema original, tentando exaustivamente até encontrar a solução ou falhar. Já a **Busca Informada** utiliza uma heurística, algum conhecimento ou informação que auxila nas decisões e torna a busca mais eficiente. Assim, o presente projeto possui como objetivo implementar e comparar os resultados entre algoritmos de Busca Cega e Busca Informada para um mesma problemática em investigação: **O Resgate da Princesa Peach**.\n",
    "\n",
    "Nesse problema, baseado no mundo fantástico de ![Super Mario Bros](https://pt.wikipedia.org/wiki/Super_Mario_Bros.#Enredo), o encanador Mario precisa resgatar a Princesa Peach, raptada pelo vilão Bowser, viajando até sua ardente fortaleza. Em seu caminho, Mario deve enfrentar e derrotar os inimigos que tentarão impedir sua passagem até o castelo. Para isso, Mario precisa comer um **Cogumelo** e assim derrotá-los para finalmente chegar ao castelo e derrotar Bowser. Abstraindo para um problema de busca, Mario começa em um ponto do labirinto (estado inicial) e, antes de chegar ao castelo (estado final), ele precisa comer o **cogumelo** (primeira condição de parada) para derrotar todos os **Goombas** (obstáculos). É importante destacar que antes de comer o cogumelo, os Goombas não permitirão a passagem de Mario."
   ]
  },
  {
   "cell_type": "markdown",
   "metadata": {},
   "source": [
    "## Modelagem do Problema"
   ]
  },
  {
   "cell_type": "markdown",
   "metadata": {},
   "source": [
    "Detalhando o problema apresentado:\n",
    "\n",
    "* **Estados**: Configuração correnta da matriz esparsa;\n",
    "\n",
    "* **Operadores**: Mover o Mario uma casa em 4 direções possíveis (Leste, Oeste, Norte ou Sul);\n",
    "\n",
    "* **Movimentos Válidos**: Não parede / Não Goomba antes do Cogumelo / Goomba após o Cogumelo / Cogumelo / Cogumelo Comido;\n",
    "\n",
    "* **Configuração Final**: O Cogumelo foi comido, todos os Goombas foram derrotados e o Mario chegou ao Castelo.\n",
    "\n",
    "* **Custo do Caminho**: Cada movimento tem um custo unitário."
   ]
  },
  {
   "cell_type": "code",
   "execution_count": 1,
   "metadata": {},
   "outputs": [],
   "source": [
    "import csv\n",
    "import numpy as np\n",
    "import pandas as pd\n",
    "from scipy import sparse\n",
    "from queue import PriorityQueue"
   ]
  },
  {
   "cell_type": "markdown",
   "metadata": {},
   "source": [
    "## Busca Não Informada"
   ]
  },
  {
   "cell_type": "markdown",
   "metadata": {},
   "source": [
    "* Justificar escolha do algoritmo;\n",
    "* Especificar decisões de implementação: Estruturas de Dados, manipulação dos dados, adaptações ao problema, etc."
   ]
  },
  {
   "cell_type": "code",
   "execution_count": 2,
   "metadata": {},
   "outputs": [],
   "source": [
    "import pandas as pd\n",
    "import numpy as np\n",
    "from collections import deque"
   ]
  },
  {
   "cell_type": "code",
   "execution_count": 4,
   "metadata": {},
   "outputs": [],
   "source": [
    "# Capturando pontos especiais\n",
    "def important_points(maze):    \n",
    "    start_point = np.where(maze == 3)\n",
    "    start = (int(start_point[0]), int(start_point[1]))\n",
    "    \n",
    "    end_point = np.where(maze == 4)\n",
    "    end = (int(end_point[0]),int(end_point[1]))\n",
    "    \n",
    "    mushroom_point = np.where(maze == 5)\n",
    "    mushroom = (int(mushroom_point[0]),int(mushroom_point[1]))\n",
    "    \n",
    "    goomba_point = np.where(maze == 2)\n",
    "    goomba = (int(goomba_point[0]),int(goomba_point[1]))\n",
    "\n",
    "    maze[start_point] = 1\n",
    "    maze[end_point] = 1\n",
    "    \n",
    "    # Sem cogumelo, Goomba é interpretado como uma parede\n",
    "    maze[goomba_point] = 0\n",
    "    \n",
    "    return start, end, mushroom, goomba"
   ]
  },
  {
   "cell_type": "code",
   "execution_count": 5,
   "metadata": {},
   "outputs": [],
   "source": [
    "# Função responsável por transformar labirinto em grafo de pontos\n",
    "def maze2graph(maze):\n",
    "    colunas = len(maze)\n",
    "    linhas = len(maze[0])\n",
    "    grafo = {(i, j): [] for j in range(linhas) for i in range(colunas) if maze[i][j]}\n",
    "    \n",
    "    for linha, coluna in grafo.keys():\n",
    "        \n",
    "        if not(linha < colunas - 1 and not maze[linha + 1][coluna]):\n",
    "            grafo[(linha, coluna)].append((\"S\", (linha + 1, coluna)))\n",
    "            grafo[(linha + 1, coluna)].append((\"N\", (linha, coluna)))\n",
    "\n",
    "        if not(coluna < linhas - 1 and not maze[linha][coluna + 1]):\n",
    "            grafo[(linha, coluna)].append((\"L\", (linha, coluna + 1)))\n",
    "            grafo[(linha, coluna + 1)].append((\"O\", (linha, coluna)))\n",
    "\n",
    "    return grafo"
   ]
  },
  {
   "cell_type": "code",
   "execution_count": 6,
   "metadata": {},
   "outputs": [],
   "source": [
    "# Implementação da Busca Cega em Profundidade\n",
    "def depth_first_algorithm(maze, start, end):\n",
    "    pilha = deque([(\"\", start)])\n",
    "    visitado = set()\n",
    "    graph = maze2graph(maze)\n",
    "    \n",
    "    while pilha:\n",
    "        caminho, atual = pilha.pop()\n",
    "        if atual == end:\n",
    "            return caminho\n",
    "\n",
    "        if atual in visitado:\n",
    "            continue\n",
    "\n",
    "        visitado.add(atual)\n",
    "        for direcao, vizinho in graph[atual]:\n",
    "            pilha.append((caminho + direcao, vizinho))\n",
    "            \n",
    "    return \"Sem caminho!\""
   ]
  },
  {
   "cell_type": "code",
   "execution_count": 7,
   "metadata": {},
   "outputs": [],
   "source": [
    "# Insere o caminho encontrado na matriz do labirinto\n",
    "def visualize_path(maze, path, start):\n",
    "    caminho_atual = start\n",
    "    path = path[0:len(path)]\n",
    "\n",
    "    for value in list(path):\n",
    "\n",
    "        if value == 'L':\n",
    "            maze[caminho_atual[0]][caminho_atual[1]] = '→'\n",
    "            caminho_atual = (caminho_atual[0], caminho_atual[1] + 1)\n",
    "\n",
    "        elif value == 'O':\n",
    "            maze[caminho_atual[0]][caminho_atual[1]] = '←'\n",
    "            caminho_atual = (caminho_atual[0], caminho_atual[1] - 1)\n",
    "\n",
    "        elif value == 'N':\n",
    "            maze[caminho_atual[0]][caminho_atual[1]] = '↑'\n",
    "            caminho_atual = (caminho_atual[0] - 1, caminho_atual[1])\n",
    "            \n",
    "        else:\n",
    "            maze[caminho_atual[0]][caminho_atual[1]] = '↓'\n",
    "            caminho_atual = (caminho_atual[0] + 1, caminho_atual[1])\n",
    "        \n",
    "    return maze"
   ]
  },
  {
   "cell_type": "code",
   "execution_count": 8,
   "metadata": {},
   "outputs": [],
   "source": [
    "# Função responsável por copiar o labirinto\n",
    "def copy_maze(maze, start, end, mushroom, goomba):\n",
    "    maze_copy = maze.copy().tolist()\n",
    "    maze_copy[start[0]][start[1]] = 'I'\n",
    "    maze_copy[end[0]][end[1]] = 'F'\n",
    "    maze_copy[mushroom[0]][mushroom[1]] = 'C'\n",
    "    maze_copy[goomba[0]][goomba[1]] = 'G'\n",
    "    maze_copy = [[str(ele) for ele in sub] for sub in maze_copy]\n",
    "    \n",
    "    return maze_copy"
   ]
  },
  {
   "cell_type": "code",
   "execution_count": 9,
   "metadata": {},
   "outputs": [],
   "source": [
    "# Função responsável por solucionar o labirinto\n",
    "def solved_maze(maze):\n",
    "    # Recuperando pontos especiais\n",
    "    start, end, mushroom, goomba = important_points(maze)\n",
    "\n",
    "    # Encontrando o caminho entre o ponto inicial e o cogumelo (primeira condição de parada)\n",
    "    start_to_mushroom = depth_first_algorithm(maze, start, mushroom)\n",
    "\n",
    "    # Agora o Mario tem poder para derrotar o Goomba\n",
    "    maze[goomba[0]][goomba[1]] = 1\n",
    "\n",
    "    # Encontrando o caminho entre o cogumelo e o goomba\n",
    "    mushroom_to_goomba = depth_first_algorithm(maze, mushroom, goomba)\n",
    "\n",
    "    # Encontrando o caminho entre o goomba e o ponto final\n",
    "    goomba_to_end = depth_first_algorithm(maze, goomba, end)\n",
    "\n",
    "    # Visualizando caminhos\n",
    "    start_mushroom_matrix = visualize_path(copy_maze(maze, start, end, mushroom, goomba), start_to_mushroom, start)\n",
    "    mushroom_goomba_matrix = visualize_path(copy_maze(maze, start, end, mushroom, goomba), mushroom_to_goomba, mushroom)\n",
    "    goomba_end_matrix = visualize_path(copy_maze(maze, start, end, mushroom, goomba), goomba_to_end, goomba)\n",
    "\n",
    "    return start_mushroom_matrix, mushroom_goomba_matrix, goomba_end_matrix"
   ]
  },
  {
   "cell_type": "code",
   "execution_count": 10,
   "metadata": {},
   "outputs": [],
   "source": [
    "# Lendo Labirinto do arquivo CSV\n",
    "maze_csv = pd.read_csv('labirinto.csv')\n",
    "\n",
    "# Transformando Labirinto em matriz completa\n",
    "maze = maze_csv.to_numpy()\n",
    "\n",
    "# Resolvendo o labirinto\n",
    "start_mushroom_matrix, mushroom_goomba_matrix, goomba_end_matrix = solved_maze(maze)"
   ]
  },
  {
   "cell_type": "code",
   "execution_count": 11,
   "metadata": {},
   "outputs": [
    {
     "data": {
      "text/plain": [
       "[['0', '0', '0', '0', '0', '0', '0', '0'],\n",
       " ['0', '↓', '1', '1', 'G', '1', '1', '0'],\n",
       " ['0', '↓', '0', '0', '0', '0', '1', '0'],\n",
       " ['0', '↓', '0', 'C', '1', '1', '1', '0'],\n",
       " ['0', '→', '→', '↑', '0', '0', 'F', '0'],\n",
       " ['0', '0', '0', '0', '0', '0', '0', '0']]"
      ]
     },
     "execution_count": 11,
     "metadata": {},
     "output_type": "execute_result"
    }
   ],
   "source": [
    "start_mushroom_matrix"
   ]
  },
  {
   "cell_type": "code",
   "execution_count": 12,
   "metadata": {},
   "outputs": [
    {
     "data": {
      "text/plain": [
       "[['0', '0', '0', '0', '0', '0', '0', '0'],\n",
       " ['0', 'I', '1', '1', 'G', '←', '←', '0'],\n",
       " ['0', '1', '0', '0', '0', '0', '↑', '0'],\n",
       " ['0', '1', '0', '→', '→', '→', '↑', '0'],\n",
       " ['0', '1', '1', '1', '0', '0', 'F', '0'],\n",
       " ['0', '0', '0', '0', '0', '0', '0', '0']]"
      ]
     },
     "execution_count": 12,
     "metadata": {},
     "output_type": "execute_result"
    }
   ],
   "source": [
    "mushroom_goomba_matrix"
   ]
  },
  {
   "cell_type": "code",
   "execution_count": 13,
   "metadata": {},
   "outputs": [
    {
     "data": {
      "text/plain": [
       "[['0', '0', '0', '0', '0', '0', '0', '0'],\n",
       " ['0', 'I', '1', '1', '→', '→', '↓', '0'],\n",
       " ['0', '1', '0', '0', '0', '0', '↓', '0'],\n",
       " ['0', '1', '0', 'C', '1', '1', '↓', '0'],\n",
       " ['0', '1', '1', '1', '0', '0', 'F', '0'],\n",
       " ['0', '0', '0', '0', '0', '0', '0', '0']]"
      ]
     },
     "execution_count": 13,
     "metadata": {},
     "output_type": "execute_result"
    }
   ],
   "source": [
    "goomba_end_matrix"
   ]
  },
  {
   "cell_type": "markdown",
   "metadata": {},
   "source": [
    "## Busca Informada"
   ]
  },
  {
   "cell_type": "markdown",
   "metadata": {},
   "source": [
    "* Justificar escolha do algoritmo;\n",
    "* Fundamentar heurística utilizada (Admissibilidade);\n",
    "* Especificar decisões de implementação: Estruturas de Dados, manipulação dos dados, adaptações ao problema, etc."
   ]
  },
  {
   "cell_type": "code",
   "execution_count": 3,
   "metadata": {},
   "outputs": [],
   "source": [
    "# Implementar a Busca Informada do Trabalho\n",
    "# A*: https://www.geeksforgeeks.org/a-search-algorithm/\n",
    "# Greedy Best-First: https://www.geeksforgeeks.org/best-first-search-informed-search/\n"
   ]
  },
  {
   "cell_type": "code",
   "execution_count": 4,
   "metadata": {},
   "outputs": [],
   "source": [
    "maze = pd.read_csv('labirinto.csv',header=None).values"
   ]
  },
  {
   "cell_type": "code",
   "execution_count": 5,
   "metadata": {
    "scrolled": false
   },
   "outputs": [
    {
     "data": {
      "text/plain": [
       "array([[0, 0, 0, 0, 0, 0, 0, 0, 0, 0],\n",
       "       [0, 1, 1, 1, 1, 3, 1, 1, 1, 0],\n",
       "       [0, 1, 0, 1, 0, 1, 0, 0, 4, 0],\n",
       "       [0, 1, 0, 6, 0, 1, 0, 0, 1, 0],\n",
       "       [0, 1, 0, 0, 0, 1, 0, 1, 0, 0],\n",
       "       [0, 1, 0, 0, 0, 0, 0, 0, 5, 0],\n",
       "       [0, 1, 1, 1, 1, 1, 1, 1, 1, 0],\n",
       "       [0, 0, 0, 0, 0, 0, 0, 0, 0, 0]], dtype=int64)"
      ]
     },
     "execution_count": 5,
     "metadata": {},
     "output_type": "execute_result"
    }
   ],
   "source": [
    "maze"
   ]
  },
  {
   "cell_type": "code",
   "execution_count": 6,
   "metadata": {},
   "outputs": [
    {
     "data": {
      "text/plain": [
       "{(1, 1): [('S', (2, 1)), ('L', (1, 2))],\n",
       " (2, 1): [('N', (1, 1)), ('S', (3, 1))],\n",
       " (3, 1): [('N', (2, 1)), ('S', (4, 1))],\n",
       " (4, 1): [('N', (3, 1)), ('S', (5, 1))],\n",
       " (5, 1): [('N', (4, 1)), ('S', (6, 1))],\n",
       " (6, 1): [('N', (5, 1)), ('L', (6, 2))],\n",
       " (1, 2): [('O', (1, 1)), ('L', (1, 3))],\n",
       " (6, 2): [('O', (6, 1)), ('L', (6, 3))],\n",
       " (1, 3): [('O', (1, 2)), ('S', (2, 3)), ('L', (1, 4))],\n",
       " (2, 3): [('N', (1, 3)), ('S', (3, 3))],\n",
       " (3, 3): [('N', (2, 3))],\n",
       " (6, 3): [('O', (6, 2)), ('L', (6, 4))],\n",
       " (1, 4): [('O', (1, 3)), ('L', (1, 5))],\n",
       " (6, 4): [('O', (6, 3)), ('L', (6, 5))],\n",
       " (1, 5): [('O', (1, 4)), ('S', (2, 5)), ('L', (1, 6))],\n",
       " (2, 5): [('N', (1, 5)), ('S', (3, 5))],\n",
       " (3, 5): [('N', (2, 5)), ('S', (4, 5))],\n",
       " (4, 5): [('N', (3, 5))],\n",
       " (6, 5): [('O', (6, 4)), ('L', (6, 6))],\n",
       " (1, 6): [('O', (1, 5)), ('L', (1, 7))],\n",
       " (6, 6): [('O', (6, 5)), ('L', (6, 7))],\n",
       " (1, 7): [('O', (1, 6)), ('L', (1, 8))],\n",
       " (4, 7): [],\n",
       " (6, 7): [('O', (6, 6)), ('L', (6, 8))],\n",
       " (1, 8): [('O', (1, 7)), ('S', (2, 8))],\n",
       " (2, 8): [('N', (1, 8)), ('S', (3, 8))],\n",
       " (3, 8): [('N', (2, 8))],\n",
       " (5, 8): [('S', (6, 8))],\n",
       " (6, 8): [('O', (6, 7)), ('N', (5, 8))]}"
      ]
     },
     "execution_count": 6,
     "metadata": {},
     "output_type": "execute_result"
    }
   ],
   "source": [
    "def maze2graph(maze):\n",
    "    height = len(maze)\n",
    "    width = len(maze[0]) if height else 0\n",
    "    graph = {(i, j): [] for j in range(width) for i in range(height) if maze[i][j]}\n",
    "    for row, col in graph.keys():\n",
    "        if not(row < height - 1 and not maze[row + 1][col]):\n",
    "            graph[(row, col)].append((\"S\", (row + 1, col)))\n",
    "            graph[(row + 1, col)].append((\"N\", (row, col)))\n",
    "        if not(col < width - 1 and not maze[row][col + 1]):\n",
    "            graph[(row, col)].append((\"L\", (row, col + 1)))\n",
    "            graph[(row, col + 1)].append((\"O\", (row, col)))\n",
    "    return graph\n",
    "grafo = maze2graph(maze)\n",
    "grafo"
   ]
  },
  {
   "cell_type": "code",
   "execution_count": 7,
   "metadata": {},
   "outputs": [],
   "source": [
    "#definindo heuristica manhattan\n",
    "def manhattan(ponto1, ponto2):\n",
    "    x_1,y_1 = ponto1\n",
    "    x_2,y_2 = ponto2\n",
    "    return np.abs(x_1 - x_2) + np.abs(y_1 - y_2)"
   ]
  },
  {
   "cell_type": "code",
   "execution_count": 20,
   "metadata": {},
   "outputs": [],
   "source": [
    "def a_search(arad, bucharest, grafo):\n",
    "    cp = [[[arad], manhattan(arad,bucharest)]] #caminhos possiveis\n",
    "    atual = arad\n",
    "    \n",
    "    while atual != bucharest:\n",
    "        caminho = cp[0][0]\n",
    "        percorridos = len(caminho)\n",
    "        \n",
    "        for cv in grafo[caminho[-1]]:\n",
    "            direcao, coord = cv #cv cidade vizinha\n",
    "            \n",
    "            if coord not in caminho:\n",
    "                nc = caminho.copy()\n",
    "                nc.append(coord)\n",
    "                cp.append([nc, manhattan(coord,bucharest) + percorridos])\n",
    "                \n",
    "        cp.pop(0)\n",
    "        cp.sort(key=lambda x: x[1])\n",
    "        atual = cp[0][0][-1]\n",
    "    return cp[0][0]"
   ]
  },
  {
   "cell_type": "code",
   "execution_count": 14,
   "metadata": {},
   "outputs": [],
   "source": [
    "def mata_goomba(goombas, estrela, grafo):\n",
    "    goombas.sort(key=lambda x: manhattan(x,estrela))\n",
    "    cg = [a_search(estrela,goombas[0],grafo)]\n",
    "    for i in range(len(goombas)-1):\n",
    "        goomba1 = goombas.pop(0)\n",
    "        goombas.sort(key=lambda x: manhattan(x,goomba1))\n",
    "        cg.append(a_search(goomba1,goombas[0],grafo))\n",
    "    return cg, goombas[0]"
   ]
  },
  {
   "cell_type": "code",
   "execution_count": 15,
   "metadata": {},
   "outputs": [],
   "source": [
    "ponto_inicial = (1,5)\n",
    "ponto_final = (3,3)\n",
    "ponto_estrela = (5,8)\n",
    "goombas = [(2,8),(4,6)]\n",
    "\n",
    "def resolve_labirinto(ponto_inicial, ponto_final, ponto_estrela, goombas,grafo):\n",
    "    inicial_estrela = a_search(ponto_inicial,ponto_estrela,grafo)\n",
    "    \n",
    "    for i in goombas:\n",
    "        maze[i[0]][i[1]] = 1\n",
    "        \n",
    "    grafo = maze2graph(maze)\n",
    "    \n",
    "    cg, ultimo_goomba = mata_goomba(goombas, ponto_estrela, grafo)\n",
    "    \n",
    "    cgf = a_search(ultimo_goomba,ponto_final,grafo)\n",
    "    \n",
    "    for i in inicial_estrela:\n",
    "        if grafo((x,y))[0] == 'S':\n",
    "            maze[x][y] == '↓'\n",
    "        elif grafo((x,y))[0] == 'N':\n",
    "            maze[x][y] == '↑'\n",
    "        elif grafo((x,y))[0] == 'O':\n",
    "            maze[x][y] == '←'\n",
    "        elif grafo((x,y))[0] == 'L':\n",
    "            maze[x][y] == '→'\n",
    "            \n",
    "    print maze\n",
    "    \n",
    "    for i in cg:\n",
    "        for j in \n",
    "    print maze\n",
    "    "
   ]
  },
  {
   "cell_type": "code",
   "execution_count": 18,
   "metadata": {},
   "outputs": [
    {
     "ename": "KeyError",
     "evalue": "5",
     "output_type": "error",
     "traceback": [
      "\u001b[1;31m---------------------------------------------------------------------------\u001b[0m",
      "\u001b[1;31mKeyError\u001b[0m                                  Traceback (most recent call last)",
      "Input \u001b[1;32mIn [18]\u001b[0m, in \u001b[0;36m<cell line: 2>\u001b[1;34m()\u001b[0m\n\u001b[0;32m      1\u001b[0m \u001b[38;5;66;03m# fé\u001b[39;00m\n\u001b[1;32m----> 2\u001b[0m \u001b[43mresolve_labirinto\u001b[49m\u001b[43m(\u001b[49m\u001b[43mponto_inicial\u001b[49m\u001b[43m,\u001b[49m\u001b[43mponto_final\u001b[49m\u001b[43m,\u001b[49m\u001b[43mponto_estrela\u001b[49m\u001b[43m,\u001b[49m\u001b[43mgoombas\u001b[49m\u001b[43m,\u001b[49m\u001b[43mgrafo\u001b[49m\u001b[43m)\u001b[49m\n",
      "Input \u001b[1;32mIn [15]\u001b[0m, in \u001b[0;36mresolve_labirinto\u001b[1;34m(ponto_inicial, ponto_final, ponto_estrela, goombas, grafo)\u001b[0m\n\u001b[0;32m      6\u001b[0m \u001b[38;5;28;01mdef\u001b[39;00m \u001b[38;5;21mresolve_labirinto\u001b[39m(ponto_inicial, ponto_final, ponto_estrela, goombas,grafo):\n\u001b[1;32m----> 7\u001b[0m     inicial_estrela \u001b[38;5;241m=\u001b[39m \u001b[43ma_search\u001b[49m\u001b[43m(\u001b[49m\u001b[43mponto_inicial\u001b[49m\u001b[43m,\u001b[49m\u001b[43mponto_estrela\u001b[49m\u001b[43m,\u001b[49m\u001b[43mgrafo\u001b[49m\u001b[43m)\u001b[49m\n\u001b[0;32m      9\u001b[0m     \u001b[38;5;28;01mfor\u001b[39;00m i \u001b[38;5;129;01min\u001b[39;00m goombas:\n\u001b[0;32m     10\u001b[0m         maze[i[\u001b[38;5;241m0\u001b[39m]][i[\u001b[38;5;241m1\u001b[39m]] \u001b[38;5;241m=\u001b[39m \u001b[38;5;241m1\u001b[39m\n",
      "Input \u001b[1;32mIn [17]\u001b[0m, in \u001b[0;36ma_search\u001b[1;34m(arad, bucharest, grafo)\u001b[0m\n\u001b[0;32m      6\u001b[0m caminho \u001b[38;5;241m=\u001b[39m cp[\u001b[38;5;241m0\u001b[39m][\u001b[38;5;241m0\u001b[39m]\n\u001b[0;32m      7\u001b[0m percorridos \u001b[38;5;241m=\u001b[39m \u001b[38;5;28mlen\u001b[39m(caminho)\n\u001b[1;32m----> 9\u001b[0m \u001b[38;5;28;01mfor\u001b[39;00m cv \u001b[38;5;129;01min\u001b[39;00m \u001b[43mgrafo\u001b[49m\u001b[43m[\u001b[49m\u001b[43mcaminho\u001b[49m\u001b[43m[\u001b[49m\u001b[38;5;241;43m-\u001b[39;49m\u001b[38;5;241;43m1\u001b[39;49m\u001b[43m]\u001b[49m\u001b[43m[\u001b[49m\u001b[38;5;241;43m-\u001b[39;49m\u001b[38;5;241;43m1\u001b[39;49m\u001b[43m]\u001b[49m\u001b[43m]\u001b[49m:\n\u001b[0;32m     10\u001b[0m     direcao, coord \u001b[38;5;241m=\u001b[39m cv \u001b[38;5;66;03m#cv cidade vizinha\u001b[39;00m\n\u001b[0;32m     12\u001b[0m     \u001b[38;5;28;01mif\u001b[39;00m coord \u001b[38;5;129;01mnot\u001b[39;00m \u001b[38;5;129;01min\u001b[39;00m caminho:\n",
      "\u001b[1;31mKeyError\u001b[0m: 5"
     ]
    }
   ],
   "source": [
    "# fé\n",
    "resolve_labirinto(ponto_inicial,ponto_final,ponto_estrela,goombas,grafo)"
   ]
  },
  {
   "cell_type": "markdown",
   "metadata": {},
   "source": [
    "## Conclusão"
   ]
  },
  {
   "cell_type": "markdown",
   "metadata": {},
   "source": [
    "* Comparar algoritmos com alguns casos de Teste;\n",
    "* Interpretar resultados obtidos;\n",
    "* Considerações Finais acerca do problema."
   ]
  },
  {
   "cell_type": "markdown",
   "metadata": {},
   "source": [
    "## Referências\n"
   ]
  },
  {
   "cell_type": "markdown",
   "metadata": {},
   "source": [
    "BRATKO, I. Prolog Programming for Artificial Intelligence . Mitchell, T. Machine\n",
    "Learning , McGraw Hill, 1997.\n",
    "\n",
    "RUSSEL, S.; NORVIG, P. Artificial Intelligence : A Modern Approach. Prentice\n",
    "Hall; 3 edition (December 11, 2009).\n",
    "\n",
    "https://www.geeksforgeeks.org/difference-between-informed-and-uninformed-search-in-ai/?ref=lbp\n",
    "\n",
    "https://www.sciencedirect.com/topics/mathematics/manhattan-distance\n",
    "\n",
    "https://www.geeksforgeeks.org/difference-between-bfs-and-dfs/?ref=lbp\n",
    "\n",
    "http://theory.stanford.edu/~amitp/GameProgramming/AStarComparison.html\n",
    "\n",
    "http://theory.stanford.edu/~amitp/GameProgramming/"
   ]
  },
  {
   "cell_type": "code",
   "execution_count": null,
   "metadata": {},
   "outputs": [],
   "source": []
  }
 ],
 "metadata": {
  "kernelspec": {
   "display_name": "Python 3 (ipykernel)",
   "language": "python",
   "name": "python3"
  },
  "language_info": {
   "codemirror_mode": {
    "name": "ipython",
    "version": 3
   },
   "file_extension": ".py",
   "mimetype": "text/x-python",
   "name": "python",
   "nbconvert_exporter": "python",
   "pygments_lexer": "ipython3",
   "version": "3.9.12"
  },
  "vscode": {
   "interpreter": {
    "hash": "cf2e631743857337d406492ed1b9086a83d96d13b04b3b704eb38b88b4c7d9bd"
   }
  }
 },
 "nbformat": 4,
 "nbformat_minor": 2
}
