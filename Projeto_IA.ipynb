{
 "cells": [
  {
   "cell_type": "markdown",
   "metadata": {},
   "source": [
    "# Problema de Busca - Super Mario Bros\n",
    "## Projeto da disciplina **SCC0230 - Inteligência Artificial**\n",
    "### Assunto: Busca Informada e Busca Cega"
   ]
  },
  {
   "cell_type": "markdown",
   "metadata": {},
   "source": [
    "## Membros\n",
    "\n",
    "* Alexandre Eduardo de Souza Jesus - alexandre_souza@usp.br - 12559506\n",
    "\n",
    "* Arthur Santorum Lorenzetto - arts.lorenzetto@usp.br -\n",
    "\n",
    "* Eduardo Zaffari Monteiro - eduardozaffarimonteiro@usp.br - \n",
    "\n",
    "* Gustavo Silva de Oliveira - gustavo.oliveira03@usp.br - 12567231 (Vice-Líder)\n",
    "\n",
    "* Lucas Ivars Cadima Ciziks - luciziks@usp.br - 125599472 (Líder)\n",
    "\n",
    "* Pedro Henrique de Freitas Maçonetto - pedromaconetto@usp.br - \n",
    "\n",
    "* Vitor Okubo Ianella - vitorok.03@gmail.com - "
   ]
  },
  {
   "cell_type": "markdown",
   "metadata": {},
   "source": [
    "## Introdução"
   ]
  },
  {
   "cell_type": "markdown",
   "metadata": {},
   "source": [
    "* Motivação = Descrever o objetivo do trabalho;\n",
    "* Especificação = Explicar a temática do problema e ferramentas utilizadas;\n",
    "* Contextualização = Resumir as estratégias abordadas."
   ]
  },
  {
   "cell_type": "markdown",
   "metadata": {},
   "source": [
    "## Modelagem do Problema"
   ]
  },
  {
   "cell_type": "markdown",
   "metadata": {},
   "source": [
    "Descrever os seguintes aspectos do problema:\n",
    "* Estados;\n",
    "* Operadores;\n",
    "* Movimentos válidos;\n",
    "* Configuração final.\n",
    "\n",
    "Detalhar visualmente o Espaço de Estados (Matriz Esparsa)"
   ]
  },
  {
   "cell_type": "markdown",
   "metadata": {},
   "source": [
    "## Busca Não Informada"
   ]
  },
  {
   "cell_type": "markdown",
   "metadata": {},
   "source": [
    "* Justificar escolha do algoritmo;\n",
    "* Especificar decisões de implementação: Estruturas de Dados, manipulação dos dados, adaptações ao problema, etc."
   ]
  },
  {
   "cell_type": "code",
   "execution_count": 3,
   "metadata": {},
   "outputs": [],
   "source": [
    "# Implementar a Busca Cega do Trabalho (Busca em Profundidade ou em Largura)\n",
    "# Em Largura: https://www.geeksforgeeks.org/breadth-first-search-or-bfs-for-a-graph/\n",
    "# Em Profundidade: https://www.geeksforgeeks.org/depth-first-search-or-dfs-for-a-graph/?ref=lbp"
   ]
  },
  {
   "cell_type": "markdown",
   "metadata": {},
   "source": [
    "## Busca Informada"
   ]
  },
  {
   "cell_type": "markdown",
   "metadata": {},
   "source": [
    "* Justificar escolha do algoritmo;\n",
    "* Fundamentar heurística utilizada (Admissibilidade);\n",
    "* Especificar decisões de implementação: Estruturas de Dados, manipulação dos dados, adaptações ao problema, etc."
   ]
  },
  {
   "cell_type": "code",
   "execution_count": 4,
   "metadata": {},
   "outputs": [],
   "source": [
    "# Implementar a Busca Informada do Trabalho\n",
    "# A*: https://www.geeksforgeeks.org/a-search-algorithm/\n",
    "# Greedy Best-First: https://www.geeksforgeeks.org/best-first-search-informed-search/\n"
   ]
  },
  {
   "cell_type": "markdown",
   "metadata": {},
   "source": [
    "## Conclusão"
   ]
  },
  {
   "cell_type": "markdown",
   "metadata": {},
   "source": [
    "* Comparar algoritmos com alguns casos de Teste;\n",
    "* Interpretar resultados obtidos;\n",
    "* Considerações Finais acerca do problema."
   ]
  },
  {
   "cell_type": "markdown",
   "metadata": {},
   "source": [
    "## Referências\n"
   ]
  },
  {
   "cell_type": "markdown",
   "metadata": {},
   "source": [
    "BRATKO, I. Prolog Programming for Artificial Intelligence . Mitchell, T. Machine\n",
    "Learning , McGraw Hill, 1997.\n",
    "\n",
    "RUSSEL, S.; NORVIG, P. Artificial Intelligence : A Modern Approach. Prentice\n",
    "Hall; 3 edition (December 11, 2009).\n",
    "\n",
    "https://www.geeksforgeeks.org/difference-between-informed-and-uninformed-search-in-ai/?ref=lbp\n",
    "\n",
    "https://www.sciencedirect.com/topics/mathematics/manhattan-distance\n",
    "\n",
    "https://www.geeksforgeeks.org/difference-between-bfs-and-dfs/?ref=lbp\n",
    "\n",
    "http://theory.stanford.edu/~amitp/GameProgramming/AStarComparison.html\n",
    "\n",
    "http://theory.stanford.edu/~amitp/GameProgramming/"
   ]
  }
 ],
 "metadata": {
  "kernelspec": {
   "display_name": "Python 3.9.13 64-bit (microsoft store)",
   "language": "python",
   "name": "python3"
  },
  "language_info": {
   "codemirror_mode": {
    "name": "ipython",
    "version": 3
   },
   "file_extension": ".py",
   "mimetype": "text/x-python",
   "name": "python",
   "nbconvert_exporter": "python",
   "pygments_lexer": "ipython3",
   "version": "3.9.13"
  },
  "vscode": {
   "interpreter": {
    "hash": "cf2e631743857337d406492ed1b9086a83d96d13b04b3b704eb38b88b4c7d9bd"
   }
  }
 },
 "nbformat": 4,
 "nbformat_minor": 2
}
