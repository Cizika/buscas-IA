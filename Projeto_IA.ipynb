{
 "cells": [
  {
   "cell_type": "markdown",
   "metadata": {},
   "source": [
    "# Problema de Busca - Super Mario Bros\n",
    "## Projeto da disciplina **SCC0230 - Inteligência Artificial**\n",
    "### Assunto: Busca Informada e Busca Cega"
   ]
  },
  {
   "cell_type": "markdown",
   "metadata": {},
   "source": [
    "## Membros\n",
    "\n",
    "* Alexandre Eduardo de Souza Jesus - alexandre_souza@usp.br - 12559506\n",
    "\n",
    "* Arthur Santorum Lorenzetto - arts.lorenzetto@usp.br -\n",
    "\n",
    "* Eduardo Zaffari Monteiro - eduardozaffarimonteiro@usp.br - \n",
    "\n",
    "* Gustavo Silva de Oliveira - gustavo.oliveira03@usp.br - 12567231 (Vice-Líder)\n",
    "\n",
    "* Lucas Ivars Cadima Ciziks - luciziks@usp.br - 125599472 (Líder)\n",
    "\n",
    "* Pedro Henrique de Freitas Maçonetto - pedromaconetto@usp.br - \n",
    "\n",
    "* Vitor Okubo Ianella - vitorok.03@gmail.com - "
   ]
  },
  {
   "cell_type": "markdown",
   "metadata": {},
   "source": [
    "## Introdução"
   ]
  },
  {
   "cell_type": "markdown",
   "metadata": {},
   "source": [
    "No mundo real, há uma infinidade de questões que podem ser classificadas como **Problemas de Busca**, tais quais a logística de entrega de um produto, o melhor caminho entre duas estações de trem e até mesmo na resolução de jogos. Nesse contexto, é importante compreender as diferentes abordagens e aplicações envolta desses problemas no estudo da Inteligência Artificial. Resumidamente, uma **Busca Cega** ou Não Informada é uma abordagem que não utiliza nenhuma informação adicional além do que definido no problema original, tentando exaustivamente até encontrar a solução ou falhar. Já a **Busca Informada** utiliza uma heurística, algum conhecimento ou informação que auxila nas decisões e torna a busca mais eficiente. Assim, o presente projeto possui como objetivo implementar e comparar os resultados entre algoritmos de Busca Cega e Busca Informada para um mesma problemática em investigação: **O Resgate da Princesa Peach**.\n",
    "\n",
    "Nesse problema, baseado no mundo fantástico de [Super Mario Bros](https://pt.wikipedia.org/wiki/Super_Mario_Bros.#Enredo), o encanador Mario precisa resgatar a Princesa Peach, raptada pelo vilão Bowser, viajando até sua ardente fortaleza. Em seu caminho, Mario deve enfrentar e derrotar os inimigos que tentarão impedir sua passagem até o castelo. Para isso, Mario precisa comer um **Cogumelo** e assim derrotá-los para finalmente chegar ao castelo e derrotar Bowser. Abstraindo para um problema de busca, Mario começa em um ponto do labirinto (estado inicial) e, antes de chegar ao castelo (estado final), ele precisa comer o **cogumelo** (primeira condição de parada) para derrotar todos os **Goombas** (obstáculos). É importante destacar que antes de comer o cogumelo, os Goombas não permitirão a passagem de Mario."
   ]
  },
  {
   "cell_type": "markdown",
   "metadata": {},
   "source": [
    "## Modelagem do Problema"
   ]
  },
  {
   "cell_type": "markdown",
   "metadata": {},
   "source": [
    "Detalhando o problema apresentado:\n",
    "\n",
    "* **Estados**: Configuração corrente da matriz do labirinto;\n",
    "\n",
    "* **Operadores**: Mover o Mario uma casa em 4 direções possíveis (Leste, Oeste, Norte ou Sul);\n",
    "\n",
    "* **Movimentos Válidos**: Não parede / Não Goomba antes do Cogumelo / Goomba após o Cogumelo / Cogumelo / Cogumelo Comido;\n",
    "\n",
    "* **Configuração Final**: O Cogumelo foi comido, todos os Goombas foram derrotados e o Mario chegou ao Castelo.\n",
    "\n",
    "* **Custo do Caminho**: Cada movimento tem um custo unitário."
   ]
  },
  {
   "cell_type": "markdown",
   "metadata": {},
   "source": [
    "Em nosso processamento, a matriz de entrada contendo o labirinto será um arquivo csv, como a do exemplo utilizado. Visualmente, ela será representada da seguinte forma:\n",
    "\n",
    "![Exemplo do Labirinto](media/exemplo.png)\n",
    "\n",
    "em que:\n",
    "* 0 representa uma parede;\n",
    "* 1 é um corredor;\n",
    "* 2 é um Goomba/inimigo;\n",
    "* 3 representa o ponto inicial do Mario;\n",
    "* 4 é o castelo do Bowser (Ponto Final);\n",
    "* 5 é o cogumelo que fornece poderes ao Mario.\n"
   ]
  },
  {
   "cell_type": "markdown",
   "metadata": {},
   "source": [
    "## Busca Não Informada"
   ]
  },
  {
   "cell_type": "markdown",
   "metadata": {},
   "source": [
    "A Busca Não Informada escolhida para resolver nosso problema foi a **Busca Cega em Profundidade** (Depth-First). Isso se deve à economia de memória proporcionada quando em comparação à busca em largura (Breadth-First). A ordem de expansão definida em nosso algoritmo foi Leste, Oeste, Norte e Sul. Para computar a matriz de entrada, transformamos-na em um **Grafo**, onde mapeamos todas as possíveis extensões/caminhos de cada nó (coordenada da matriz). Isso, em conjunto com a estrutura de dados **Pilha**, auxilia a manipulação dos dados e o *backtracking* na busca.\n",
    "\n",
    "Uma adaptação necessária para nosso problema foi o reinício das posições visitadas (exceto pela posição atual) após o Mario consumir um cogumelo ou derrotar um Goomba."
   ]
  },
  {
   "cell_type": "code",
   "execution_count": 1,
   "metadata": {},
   "outputs": [],
   "source": [
    "import pandas as pd\n",
    "import numpy as np\n",
    "from collections import deque"
   ]
  },
  {
   "cell_type": "code",
   "execution_count": 2,
   "metadata": {},
   "outputs": [],
   "source": [
    "# Capturando pontos especiais\n",
    "def important_points(maze):    \n",
    "    start_point = np.where(maze == 3)\n",
    "    start = (int(start_point[0]), int(start_point[1]))\n",
    "    \n",
    "    end_point = np.where(maze == 4)\n",
    "    end = (int(end_point[0]),int(end_point[1]))\n",
    "    \n",
    "    mushroom_point = np.where(maze == 5)\n",
    "    mushroom = (int(mushroom_point[0]),int(mushroom_point[1]))\n",
    "    \n",
    "    goomba_points = np.where(maze == 2)\n",
    "    goombas_x = goomba_points[0]\n",
    "    goombas_y = goomba_points[1]\n",
    "    goombas = []\n",
    "    for i in range(len(goombas_x)):\n",
    "        goombas.append((int(goombas_x[i]), int(goombas_y[i])))\n",
    "\n",
    "        # Sem cogumelo, Goomba é interpretado como uma parede\n",
    "        maze[int(goombas_x[i])][int(goombas_y[i])] = 0\n",
    "    \n",
    "    maze[start_point] = 1\n",
    "    maze[end_point] = 1\n",
    "    \n",
    "    return start, end, mushroom, goombas"
   ]
  },
  {
   "cell_type": "code",
   "execution_count": 3,
   "metadata": {},
   "outputs": [],
   "source": [
    "# Função responsável por transformar labirinto em grafo de pontos\n",
    "def maze2graph(maze):\n",
    "    colunas = len(maze)\n",
    "    linhas = len(maze[0])\n",
    "    grafo = {(i, j): [] for j in range(linhas) for i in range(colunas) if maze[i][j]}\n",
    "    \n",
    "    for linha, coluna in grafo.keys():\n",
    "        \n",
    "        if not(linha < colunas - 1 and not maze[linha + 1][coluna]):\n",
    "            grafo[(linha, coluna)].append((\"S\", (linha + 1, coluna)))\n",
    "            grafo[(linha + 1, coluna)].append((\"N\", (linha, coluna)))\n",
    "\n",
    "        if not(coluna < linhas - 1 and not maze[linha][coluna + 1]):\n",
    "            grafo[(linha, coluna)].append((\"L\", (linha, coluna + 1)))\n",
    "            grafo[(linha, coluna + 1)].append((\"O\", (linha, coluna)))\n",
    "\n",
    "    return grafo"
   ]
  },
  {
   "cell_type": "code",
   "execution_count": 4,
   "metadata": {},
   "outputs": [],
   "source": [
    "# Implementação da Busca Cega em Profundidade\n",
    "def depth_first_algorithm(maze, start, end):\n",
    "    pilha = deque([(\"\", start)])\n",
    "    visitado = set()\n",
    "    graph = maze2graph(maze)\n",
    "    \n",
    "    while pilha:\n",
    "        caminho, atual = pilha.pop()\n",
    "        if atual == end:\n",
    "            return caminho\n",
    "\n",
    "        if atual in visitado:\n",
    "            continue\n",
    "\n",
    "        visitado.add(atual)\n",
    "        for direcao, vizinho in graph[atual]:\n",
    "            pilha.append((caminho + direcao, vizinho))\n",
    "            \n",
    "    return \"Sem caminho!\""
   ]
  },
  {
   "cell_type": "code",
   "execution_count": 5,
   "metadata": {},
   "outputs": [],
   "source": [
    "# Insere o caminho encontrado em uma cópia matriz do labirinto\n",
    "def visualize_path(maze, path, start):\n",
    "    caminho_atual = start\n",
    "    \n",
    "    for value in list(path):\n",
    "\n",
    "        if value == 'L':\n",
    "            maze[caminho_atual[0]][caminho_atual[1]] = '→'\n",
    "            caminho_atual = (caminho_atual[0], caminho_atual[1] + 1)\n",
    "\n",
    "        elif value == 'O':\n",
    "            maze[caminho_atual[0]][caminho_atual[1]] = '←'\n",
    "            caminho_atual = (caminho_atual[0], caminho_atual[1] - 1)\n",
    "\n",
    "        elif value == 'N':\n",
    "            maze[caminho_atual[0]][caminho_atual[1]] = '↑'\n",
    "            caminho_atual = (caminho_atual[0] - 1, caminho_atual[1])\n",
    "\n",
    "        elif value == 'S':\n",
    "            maze[caminho_atual[0]][caminho_atual[1]] = '↓'\n",
    "            caminho_atual = (caminho_atual[0] + 1, caminho_atual[1])\n",
    "        \n",
    "    return maze"
   ]
  },
  {
   "cell_type": "code",
   "execution_count": 6,
   "metadata": {},
   "outputs": [],
   "source": [
    "# Função responsável por copiar o labirinto\n",
    "def copy_maze(maze, start, end, mushroom, goombas):\n",
    "    maze_copy = maze.copy().tolist()\n",
    "    maze_copy[start[0]][start[1]] = 'I'\n",
    "    maze_copy[end[0]][end[1]] = 'F'\n",
    "    maze_copy[mushroom[0]][mushroom[1]] = 'C'\n",
    "    for goomba in goombas:\n",
    "        maze_copy[goomba[0]][goomba[1]] = 'G'\n",
    "    maze_copy = [[str(ele) for ele in sub] for sub in maze_copy]\n",
    "    \n",
    "    return maze_copy"
   ]
  },
  {
   "cell_type": "code",
   "execution_count": 7,
   "metadata": {},
   "outputs": [],
   "source": [
    "# Função responsável por solucionar o labirinto (Depth-First)\n",
    "def solved_maze(maze):\n",
    "    # Recuperando pontos especiais\n",
    "    start, end, mushroom, goombas = important_points(maze)\n",
    "\n",
    "    # Encontrando o caminho entre o ponto inicial e o cogumelo (primeira condição de parada)\n",
    "    start_to_mushroom = depth_first_algorithm(maze, start, mushroom)\n",
    "\n",
    "    # Agora o Mario tem poder para derrotar o Goomba\n",
    "    for goomba in goombas:\n",
    "        maze[goomba[0]][goomba[1]] = 1\n",
    "\n",
    "    # Encontrando o caminho entre o cogumelo e o goomba\n",
    "    mushroom_to_goomba_paths = []\n",
    "    start_goomba = mushroom\n",
    "    goombas.reverse()\n",
    "    for next_goomba in goombas:\n",
    "        mushroom_to_goomba_paths.append(depth_first_algorithm(maze, start_goomba, next_goomba))\n",
    "        start_goomba = next_goomba\n",
    "        \n",
    "    # Encontrando o caminho entre o goomba e o ponto final\n",
    "    goomba_to_end = depth_first_algorithm(maze, start_goomba, end)\n",
    "\n",
    "    # Visualizando caminhos\n",
    "    start_mushroom_matrix = visualize_path(copy_maze(maze, start, end, mushroom, goombas), start_to_mushroom, start)\n",
    "\n",
    "    mushroom_goomba_matrixes = []\n",
    "    start_goomba = mushroom\n",
    "    for i in range(len(goombas)):\n",
    "        mushroom_goomba_matrixes.append(visualize_path(copy_maze(maze, start, end, mushroom, goombas), mushroom_to_goomba_paths[i], start_goomba))\n",
    "        start_goomba = goombas[i]\n",
    "        \n",
    "    goomba_end_matrix = visualize_path(copy_maze(maze, start, end, mushroom, goombas), goomba_to_end, start_goomba)\n",
    "\n",
    "    return start_mushroom_matrix, *mushroom_goomba_matrixes, goomba_end_matrix"
   ]
  },
  {
   "cell_type": "code",
   "execution_count": 8,
   "metadata": {},
   "outputs": [],
   "source": [
    "# Lendo Labirinto do arquivo CSV\n",
    "maze_csv = pd.read_csv('mazes/maze_expert.csv', header=None)\n",
    "\n",
    "# Transformando Labirinto em matriz completa\n",
    "maze = maze_csv.to_numpy()\n",
    "\n",
    "# Resolvendo o labirinto\n",
    "start_mushroom_matrix, *mushroom_goomba_matrixes, goomba_end_matrix = solved_maze(maze)"
   ]
  },
  {
   "cell_type": "code",
   "execution_count": 9,
   "metadata": {},
   "outputs": [
    {
     "name": "stdout",
     "output_type": "stream",
     "text": [
      "['0', '0', '0', '0', '0', '0', '0', '0', '0', '0', '0', '0', '0', '0', '0', '0', '0', '0', '0', '0']\n",
      "['0', '↓', '0', '0', '0', '0', '0', '0', '0', '0', '0', '0', '0', '0', 'G', '0', '0', '0', '0', '0']\n",
      "['0', '→', '→', '↓', '0', '0', '0', '0', '0', '0', '1', '1', '0', '0', '1', '0', '0', '0', '0', '0']\n",
      "['0', '0', '0', '↓', '0', '0', '0', '0', '0', '0', '0', '1', '0', '0', '1', '0', '0', '0', '0', '0']\n",
      "['0', '0', '0', '↓', '0', '0', '0', '0', 'G', '0', '0', '1', '0', '0', '1', '0', '0', '0', '0', '0']\n",
      "['0', '0', '0', '↓', '0', '0', '→', '→', '↓', '1', '1', '1', '1', '1', '1', '1', '1', 'G', '0', '0']\n",
      "['0', '1', '1', '↓', '0', '0', '↑', '0', '↓', '0', '0', '1', '0', '0', '0', '0', '0', '0', '0', '0']\n",
      "['0', '0', '0', '↓', '0', '0', '↑', '0', '↓', '0', '0', '1', '0', '0', '0', '0', '0', '0', '0', '0']\n",
      "['0', '0', '0', '→', '→', '→', '↑', '0', '↓', '0', '0', '0', '0', '0', '0', '0', '0', '0', '0', '0']\n",
      "['0', '0', '0', '1', '0', '0', '0', '0', '↓', '0', '0', '0', '0', '0', '1', '1', '1', '0', '0', '0']\n",
      "['0', '0', '0', '1', '0', '0', '0', '0', '↓', '0', '0', '0', '0', '0', '1', '0', '1', '1', '0', '0']\n",
      "['0', '0', '0', 'G', '0', '0', '0', '0', '↓', '0', '0', '0', '0', '0', '1', '0', '0', '1', '0', '0']\n",
      "['0', '0', '0', '1', '1', '1', '1', 'G', '→', '→', '→', '→', '→', '→', '→', '↓', '1', '1', '0', '0']\n",
      "['0', '0', '0', '1', '0', '0', '1', '0', '0', '0', '0', '0', '0', '0', '0', '↓', '0', '0', '0', '0']\n",
      "['0', '0', '0', '1', '0', '0', '1', '0', '0', '0', '0', '0', '0', '0', '0', '↓', '0', '0', '0', '0']\n",
      "['0', '0', '0', '1', '0', '0', '1', '0', '0', '0', '0', '0', '0', '0', '0', '↓', '0', '0', '0', '0']\n",
      "['0', '0', '0', '0', '0', '0', '1', '1', '1', '1', '0', '0', '0', '0', '0', '↓', '0', '0', '0', '0']\n",
      "['0', '0', '0', '0', '0', '0', '0', '0', '0', '1', '0', '0', '0', '0', '0', '→', '→', '→', '↓', '0']\n",
      "['0', '0', '0', '0', '0', '0', '0', '0', '0', 'F', '0', '0', '0', '0', '0', '0', '0', '0', 'C', '0']\n",
      "['0', '0', '0', '0', '0', '0', '0', '0', '0', '0', '0', '0', '0', '0', '0', '0', '0', '0', '0', '0']\n"
     ]
    }
   ],
   "source": [
    "for row in start_mushroom_matrix:\n",
    "    print(row)"
   ]
  },
  {
   "cell_type": "code",
   "execution_count": 10,
   "metadata": {},
   "outputs": [
    {
     "name": "stdout",
     "output_type": "stream",
     "text": [
      "['0', '0', '0', '0', '0', '0', '0', '0', '0', '0', '0', '0', '0', '0', '0', '0', '0', '0', '0', '0']\n",
      "['0', 'I', '0', '0', '0', '0', '0', '0', '0', '0', '0', '0', '0', '0', 'G', '0', '0', '0', '0', '0']\n",
      "['0', '1', '1', '1', '0', '0', '0', '0', '0', '0', '1', '1', '0', '0', '1', '0', '0', '0', '0', '0']\n",
      "['0', '0', '0', '1', '0', '0', '0', '0', '0', '0', '0', '1', '0', '0', '1', '0', '0', '0', '0', '0']\n",
      "['0', '0', '0', '1', '0', '0', '0', '0', 'G', '0', '0', '1', '0', '0', '1', '0', '0', '0', '0', '0']\n",
      "['0', '0', '0', '1', '0', '0', '↓', '←', '←', '1', '1', '1', '1', '1', '1', '1', '1', 'G', '0', '0']\n",
      "['0', '1', '1', '1', '0', '0', '↓', '0', '↑', '0', '0', '1', '0', '0', '0', '0', '0', '0', '0', '0']\n",
      "['0', '0', '0', '1', '0', '0', '↓', '0', '↑', '0', '0', '1', '0', '0', '0', '0', '0', '0', '0', '0']\n",
      "['0', '0', '0', '↓', '←', '←', '←', '0', '↑', '0', '0', '0', '0', '0', '0', '0', '0', '0', '0', '0']\n",
      "['0', '0', '0', '↓', '0', '0', '0', '0', '↑', '0', '0', '0', '0', '0', '↓', '←', '←', '0', '0', '0']\n",
      "['0', '0', '0', '↓', '0', '0', '0', '0', '↑', '0', '0', '0', '0', '0', '↓', '0', '↑', '←', '0', '0']\n",
      "['0', '0', '0', '↓', '0', '0', '0', '0', '↑', '0', '0', '0', '0', '0', '↓', '0', '0', '↑', '0', '0']\n",
      "['0', '0', '0', '→', '→', '→', '→', 'G', '↑', '←', '←', '←', '←', '←', '←', '→', '→', '↑', '0', '0']\n",
      "['0', '0', '0', '1', '0', '0', '1', '0', '0', '0', '0', '0', '0', '0', '0', '↑', '0', '0', '0', '0']\n",
      "['0', '0', '0', '1', '0', '0', '1', '0', '0', '0', '0', '0', '0', '0', '0', '↑', '0', '0', '0', '0']\n",
      "['0', '0', '0', '1', '0', '0', '1', '0', '0', '0', '0', '0', '0', '0', '0', '↑', '0', '0', '0', '0']\n",
      "['0', '0', '0', '0', '0', '0', '1', '1', '1', '1', '0', '0', '0', '0', '0', '↑', '0', '0', '0', '0']\n",
      "['0', '0', '0', '0', '0', '0', '0', '0', '0', '1', '0', '0', '0', '0', '0', '↑', '←', '←', '←', '0']\n",
      "['0', '0', '0', '0', '0', '0', '0', '0', '0', 'F', '0', '0', '0', '0', '0', '0', '0', '0', '↑', '0']\n",
      "['0', '0', '0', '0', '0', '0', '0', '0', '0', '0', '0', '0', '0', '0', '0', '0', '0', '0', '0', '0']\n",
      "\n",
      "\n",
      "['0', '0', '0', '0', '0', '0', '0', '0', '0', '0', '0', '0', '0', '0', '0', '0', '0', '0', '0', '0']\n",
      "['0', 'I', '0', '0', '0', '0', '0', '0', '0', '0', '0', '0', '0', '0', 'G', '0', '0', '0', '0', '0']\n",
      "['0', '1', '1', '1', '0', '0', '0', '0', '0', '0', '1', '1', '0', '0', '1', '0', '0', '0', '0', '0']\n",
      "['0', '0', '0', '1', '0', '0', '0', '0', '0', '0', '0', '1', '0', '0', '1', '0', '0', '0', '0', '0']\n",
      "['0', '0', '0', '1', '0', '0', '0', '0', 'G', '0', '0', '1', '0', '0', '1', '0', '0', '0', '0', '0']\n",
      "['0', '0', '0', '1', '0', '0', '↓', '←', '←', '1', '1', '1', '1', '1', '1', '1', '1', 'G', '0', '0']\n",
      "['0', '1', '1', '1', '0', '0', '↓', '0', '↑', '0', '0', '1', '0', '0', '0', '0', '0', '0', '0', '0']\n",
      "['0', '0', '0', '1', '0', '0', '↓', '0', '↑', '0', '0', '1', '0', '0', '0', '0', '0', '0', '0', '0']\n",
      "['0', '0', '0', '↓', '←', '←', '←', '0', '↑', '0', '0', '0', '0', '0', '0', '0', '0', '0', '0', '0']\n",
      "['0', '0', '0', '↓', '0', '0', '0', '0', '↑', '0', '0', '0', '0', '0', '1', '1', '1', '0', '0', '0']\n",
      "['0', '0', '0', '↓', '0', '0', '0', '0', '↑', '0', '0', '0', '0', '0', '1', '0', '1', '1', '0', '0']\n",
      "['0', '0', '0', 'G', '0', '0', '0', '0', '↑', '0', '0', '0', '0', '0', '1', '0', '0', '1', '0', '0']\n",
      "['0', '0', '0', '1', '1', '1', '1', '→', '↑', '1', '1', '1', '1', '1', '1', '1', '1', '1', '0', '0']\n",
      "['0', '0', '0', '1', '0', '0', '1', '0', '0', '0', '0', '0', '0', '0', '0', '1', '0', '0', '0', '0']\n",
      "['0', '0', '0', '1', '0', '0', '1', '0', '0', '0', '0', '0', '0', '0', '0', '1', '0', '0', '0', '0']\n",
      "['0', '0', '0', '1', '0', '0', '1', '0', '0', '0', '0', '0', '0', '0', '0', '1', '0', '0', '0', '0']\n",
      "['0', '0', '0', '0', '0', '0', '1', '1', '1', '1', '0', '0', '0', '0', '0', '1', '0', '0', '0', '0']\n",
      "['0', '0', '0', '0', '0', '0', '0', '0', '0', '1', '0', '0', '0', '0', '0', '1', '1', '1', '1', '0']\n",
      "['0', '0', '0', '0', '0', '0', '0', '0', '0', 'F', '0', '0', '0', '0', '0', '0', '0', '0', 'C', '0']\n",
      "['0', '0', '0', '0', '0', '0', '0', '0', '0', '0', '0', '0', '0', '0', '0', '0', '0', '0', '0', '0']\n",
      "\n",
      "\n",
      "['0', '0', '0', '0', '0', '0', '0', '0', '0', '0', '0', '0', '0', '0', '0', '0', '0', '0', '0', '0']\n",
      "['0', 'I', '0', '0', '0', '0', '0', '0', '0', '0', '0', '0', '0', '0', 'G', '0', '0', '0', '0', '0']\n",
      "['0', '1', '1', '1', '0', '0', '0', '0', '0', '0', '1', '1', '0', '0', '1', '0', '0', '0', '0', '0']\n",
      "['0', '0', '0', '1', '0', '0', '0', '0', '0', '0', '0', '1', '0', '0', '1', '0', '0', '0', '0', '0']\n",
      "['0', '0', '0', '1', '0', '0', '0', '0', 'G', '0', '0', '1', '0', '0', '1', '0', '0', '0', '0', '0']\n",
      "['0', '0', '0', '1', '0', '0', '1', '1', '→', '→', '→', '→', '→', '→', '→', '→', '→', 'G', '0', '0']\n",
      "['0', '1', '1', '1', '0', '0', '1', '0', '↑', '0', '0', '1', '0', '0', '0', '0', '0', '0', '0', '0']\n",
      "['0', '0', '0', '1', '0', '0', '1', '0', '↑', '0', '0', '1', '0', '0', '0', '0', '0', '0', '0', '0']\n",
      "['0', '0', '0', '1', '1', '1', '1', '0', '↑', '0', '0', '0', '0', '0', '0', '0', '0', '0', '0', '0']\n",
      "['0', '0', '0', '1', '0', '0', '0', '0', '↑', '0', '0', '0', '0', '0', '1', '1', '1', '0', '0', '0']\n",
      "['0', '0', '0', '1', '0', '0', '0', '0', '↑', '0', '0', '0', '0', '0', '1', '0', '1', '1', '0', '0']\n",
      "['0', '0', '0', '↓', '0', '0', '0', '0', '↑', '0', '0', '0', '0', '0', '1', '0', '0', '1', '0', '0']\n",
      "['0', '0', '0', '→', '→', '→', '→', '→', '↑', '1', '1', '1', '1', '1', '1', '1', '1', '1', '0', '0']\n",
      "['0', '0', '0', '1', '0', '0', '1', '0', '0', '0', '0', '0', '0', '0', '0', '1', '0', '0', '0', '0']\n",
      "['0', '0', '0', '1', '0', '0', '1', '0', '0', '0', '0', '0', '0', '0', '0', '1', '0', '0', '0', '0']\n",
      "['0', '0', '0', '1', '0', '0', '1', '0', '0', '0', '0', '0', '0', '0', '0', '1', '0', '0', '0', '0']\n",
      "['0', '0', '0', '0', '0', '0', '1', '1', '1', '1', '0', '0', '0', '0', '0', '1', '0', '0', '0', '0']\n",
      "['0', '0', '0', '0', '0', '0', '0', '0', '0', '1', '0', '0', '0', '0', '0', '1', '1', '1', '1', '0']\n",
      "['0', '0', '0', '0', '0', '0', '0', '0', '0', 'F', '0', '0', '0', '0', '0', '0', '0', '0', 'C', '0']\n",
      "['0', '0', '0', '0', '0', '0', '0', '0', '0', '0', '0', '0', '0', '0', '0', '0', '0', '0', '0', '0']\n",
      "\n",
      "\n",
      "['0', '0', '0', '0', '0', '0', '0', '0', '0', '0', '0', '0', '0', '0', '0', '0', '0', '0', '0', '0']\n",
      "['0', 'I', '0', '0', '0', '0', '0', '0', '0', '0', '0', '0', '0', '0', 'G', '0', '0', '0', '0', '0']\n",
      "['0', '1', '1', '1', '0', '0', '0', '0', '0', '0', '1', '1', '0', '0', '1', '0', '0', '0', '0', '0']\n",
      "['0', '0', '0', '1', '0', '0', '0', '0', '0', '0', '0', '1', '0', '0', '1', '0', '0', '0', '0', '0']\n",
      "['0', '0', '0', '1', '0', '0', '0', '0', 'G', '0', '0', '1', '0', '0', '1', '0', '0', '0', '0', '0']\n",
      "['0', '0', '0', '1', '0', '0', '1', '1', '↑', '←', '←', '←', '←', '←', '←', '←', '←', '←', '0', '0']\n",
      "['0', '1', '1', '1', '0', '0', '1', '0', '1', '0', '0', '1', '0', '0', '0', '0', '0', '0', '0', '0']\n",
      "['0', '0', '0', '1', '0', '0', '1', '0', '1', '0', '0', '1', '0', '0', '0', '0', '0', '0', '0', '0']\n",
      "['0', '0', '0', '1', '1', '1', '1', '0', '1', '0', '0', '0', '0', '0', '0', '0', '0', '0', '0', '0']\n",
      "['0', '0', '0', '1', '0', '0', '0', '0', '1', '0', '0', '0', '0', '0', '1', '1', '1', '0', '0', '0']\n",
      "['0', '0', '0', '1', '0', '0', '0', '0', '1', '0', '0', '0', '0', '0', '1', '0', '1', '1', '0', '0']\n",
      "['0', '0', '0', 'G', '0', '0', '0', '0', '1', '0', '0', '0', '0', '0', '1', '0', '0', '1', '0', '0']\n",
      "['0', '0', '0', '1', '1', '1', '1', 'G', '1', '1', '1', '1', '1', '1', '1', '1', '1', '1', '0', '0']\n",
      "['0', '0', '0', '1', '0', '0', '1', '0', '0', '0', '0', '0', '0', '0', '0', '1', '0', '0', '0', '0']\n",
      "['0', '0', '0', '1', '0', '0', '1', '0', '0', '0', '0', '0', '0', '0', '0', '1', '0', '0', '0', '0']\n",
      "['0', '0', '0', '1', '0', '0', '1', '0', '0', '0', '0', '0', '0', '0', '0', '1', '0', '0', '0', '0']\n",
      "['0', '0', '0', '0', '0', '0', '1', '1', '1', '1', '0', '0', '0', '0', '0', '1', '0', '0', '0', '0']\n",
      "['0', '0', '0', '0', '0', '0', '0', '0', '0', '1', '0', '0', '0', '0', '0', '1', '1', '1', '1', '0']\n",
      "['0', '0', '0', '0', '0', '0', '0', '0', '0', 'F', '0', '0', '0', '0', '0', '0', '0', '0', 'C', '0']\n",
      "['0', '0', '0', '0', '0', '0', '0', '0', '0', '0', '0', '0', '0', '0', '0', '0', '0', '0', '0', '0']\n",
      "\n",
      "\n",
      "['0', '0', '0', '0', '0', '0', '0', '0', '0', '0', '0', '0', '0', '0', '0', '0', '0', '0', '0', '0']\n",
      "['0', 'I', '0', '0', '0', '0', '0', '0', '0', '0', '0', '0', '0', '0', 'G', '0', '0', '0', '0', '0']\n",
      "['0', '1', '1', '1', '0', '0', '0', '0', '0', '0', '1', '1', '0', '0', '↑', '0', '0', '0', '0', '0']\n",
      "['0', '0', '0', '1', '0', '0', '0', '0', '0', '0', '0', '1', '0', '0', '↑', '0', '0', '0', '0', '0']\n",
      "['0', '0', '0', '1', '0', '0', '0', '0', '↓', '0', '0', '1', '0', '0', '↑', '0', '0', '0', '0', '0']\n",
      "['0', '0', '0', '1', '0', '0', '1', '1', '→', '→', '→', '→', '→', '→', '↑', '1', '1', 'G', '0', '0']\n",
      "['0', '1', '1', '1', '0', '0', '1', '0', '1', '0', '0', '1', '0', '0', '0', '0', '0', '0', '0', '0']\n",
      "['0', '0', '0', '1', '0', '0', '1', '0', '1', '0', '0', '1', '0', '0', '0', '0', '0', '0', '0', '0']\n",
      "['0', '0', '0', '1', '1', '1', '1', '0', '1', '0', '0', '0', '0', '0', '0', '0', '0', '0', '0', '0']\n",
      "['0', '0', '0', '1', '0', '0', '0', '0', '1', '0', '0', '0', '0', '0', '1', '1', '1', '0', '0', '0']\n",
      "['0', '0', '0', '1', '0', '0', '0', '0', '1', '0', '0', '0', '0', '0', '1', '0', '1', '1', '0', '0']\n",
      "['0', '0', '0', 'G', '0', '0', '0', '0', '1', '0', '0', '0', '0', '0', '1', '0', '0', '1', '0', '0']\n",
      "['0', '0', '0', '1', '1', '1', '1', 'G', '1', '1', '1', '1', '1', '1', '1', '1', '1', '1', '0', '0']\n",
      "['0', '0', '0', '1', '0', '0', '1', '0', '0', '0', '0', '0', '0', '0', '0', '1', '0', '0', '0', '0']\n",
      "['0', '0', '0', '1', '0', '0', '1', '0', '0', '0', '0', '0', '0', '0', '0', '1', '0', '0', '0', '0']\n",
      "['0', '0', '0', '1', '0', '0', '1', '0', '0', '0', '0', '0', '0', '0', '0', '1', '0', '0', '0', '0']\n",
      "['0', '0', '0', '0', '0', '0', '1', '1', '1', '1', '0', '0', '0', '0', '0', '1', '0', '0', '0', '0']\n",
      "['0', '0', '0', '0', '0', '0', '0', '0', '0', '1', '0', '0', '0', '0', '0', '1', '1', '1', '1', '0']\n",
      "['0', '0', '0', '0', '0', '0', '0', '0', '0', 'F', '0', '0', '0', '0', '0', '0', '0', '0', 'C', '0']\n",
      "['0', '0', '0', '0', '0', '0', '0', '0', '0', '0', '0', '0', '0', '0', '0', '0', '0', '0', '0', '0']\n",
      "\n",
      "\n"
     ]
    }
   ],
   "source": [
    "for matrix in mushroom_goomba_matrixes:\n",
    "    for row in matrix:\n",
    "        print(row)\n",
    "    print(\"\\n\")"
   ]
  },
  {
   "cell_type": "code",
   "execution_count": 11,
   "metadata": {},
   "outputs": [
    {
     "name": "stdout",
     "output_type": "stream",
     "text": [
      "['0', '0', '0', '0', '0', '0', '0', '0', '0', '0', '0', '0', '0', '0', '0', '0', '0', '0', '0', '0']\n",
      "['0', 'I', '0', '0', '0', '0', '0', '0', '0', '0', '0', '0', '0', '0', '↓', '0', '0', '0', '0', '0']\n",
      "['0', '1', '1', '1', '0', '0', '0', '0', '0', '0', '1', '1', '0', '0', '↓', '0', '0', '0', '0', '0']\n",
      "['0', '0', '0', '1', '0', '0', '0', '0', '0', '0', '0', '1', '0', '0', '↓', '0', '0', '0', '0', '0']\n",
      "['0', '0', '0', '1', '0', '0', '0', '0', 'G', '0', '0', '1', '0', '0', '↓', '0', '0', '0', '0', '0']\n",
      "['0', '0', '0', '1', '0', '0', '1', '1', '↓', '←', '←', '←', '←', '←', '←', '1', '1', 'G', '0', '0']\n",
      "['0', '1', '1', '1', '0', '0', '1', '0', '↓', '0', '0', '1', '0', '0', '0', '0', '0', '0', '0', '0']\n",
      "['0', '0', '0', '1', '0', '0', '1', '0', '↓', '0', '0', '1', '0', '0', '0', '0', '0', '0', '0', '0']\n",
      "['0', '0', '0', '1', '1', '1', '1', '0', '↓', '0', '0', '0', '0', '0', '0', '0', '0', '0', '0', '0']\n",
      "['0', '0', '0', '1', '0', '0', '0', '0', '↓', '0', '0', '0', '0', '0', '1', '1', '1', '0', '0', '0']\n",
      "['0', '0', '0', '1', '0', '0', '0', '0', '↓', '0', '0', '0', '0', '0', '1', '0', '1', '1', '0', '0']\n",
      "['0', '0', '0', 'G', '0', '0', '0', '0', '↓', '0', '0', '0', '0', '0', '1', '0', '0', '1', '0', '0']\n",
      "['0', '0', '0', '1', '1', '1', '↓', '←', '←', '1', '1', '1', '1', '1', '1', '1', '1', '1', '0', '0']\n",
      "['0', '0', '0', '1', '0', '0', '↓', '0', '0', '0', '0', '0', '0', '0', '0', '1', '0', '0', '0', '0']\n",
      "['0', '0', '0', '1', '0', '0', '↓', '0', '0', '0', '0', '0', '0', '0', '0', '1', '0', '0', '0', '0']\n",
      "['0', '0', '0', '1', '0', '0', '↓', '0', '0', '0', '0', '0', '0', '0', '0', '1', '0', '0', '0', '0']\n",
      "['0', '0', '0', '0', '0', '0', '→', '→', '→', '↓', '0', '0', '0', '0', '0', '1', '0', '0', '0', '0']\n",
      "['0', '0', '0', '0', '0', '0', '0', '0', '0', '↓', '0', '0', '0', '0', '0', '1', '1', '1', '1', '0']\n",
      "['0', '0', '0', '0', '0', '0', '0', '0', '0', 'F', '0', '0', '0', '0', '0', '0', '0', '0', 'C', '0']\n",
      "['0', '0', '0', '0', '0', '0', '0', '0', '0', '0', '0', '0', '0', '0', '0', '0', '0', '0', '0', '0']\n"
     ]
    }
   ],
   "source": [
    "for row in goomba_end_matrix:\n",
    "    print(row)"
   ]
  },
  {
   "cell_type": "markdown",
   "metadata": {},
   "source": [
    "## Busca Informada"
   ]
  },
  {
   "cell_type": "markdown",
   "metadata": {},
   "source": [
    "* Justificar escolha do algoritmo;\n",
    "* Fundamentar heurística utilizada (Admissibilidade);\n",
    "* Especificar decisões de implementação: Estruturas de Dados, manipulação dos dados, adaptações ao problema, etc."
   ]
  },
  {
   "cell_type": "code",
   "execution_count": 12,
   "metadata": {},
   "outputs": [],
   "source": [
    "# Definindo heurística baseada na distância de Manhattan\n",
    "def manhattan_distance(ponto1, ponto2):\n",
    "    x_1, y_1 = ponto1\n",
    "    x_2, y_2 = ponto2\n",
    "    return np.abs(x_1 - x_2) + np.abs(y_1 - y_2)"
   ]
  },
  {
   "cell_type": "code",
   "execution_count": 13,
   "metadata": {},
   "outputs": [],
   "source": [
    "# Implementação da Busca Heurística A*\n",
    "def a_search_algorithm(ponto_inicial, ponto_final, grafo):\n",
    "    caminhos_possiveis = [[[ponto_inicial], manhattan_distance(ponto_inicial,ponto_final)]]\n",
    "    atual = ponto_inicial\n",
    "    caminho_errado = []\n",
    "    \n",
    "    while atual != ponto_final:\n",
    "        caminho = caminhos_possiveis[0][0]\n",
    "        visitados = len(caminho)\n",
    "\n",
    "        if len(grafo[caminho[-1]]) > 0:\n",
    "            for vizinho in grafo[caminho[-1]]:\n",
    "                direcao, coord = vizinho\n",
    "                \n",
    "                if coord not in caminho and coord not in caminho_errado:\n",
    "                    novo_caminho = caminho.copy()\n",
    "                    novo_caminho.append(coord)\n",
    "                    caminhos_possiveis.append([novo_caminho, manhattan_distance(coord, ponto_final) + visitados])\n",
    "                    \n",
    "            caminhos_possiveis.pop(0)\n",
    "            caminhos_possiveis.sort(key=lambda x: x[1])\n",
    "            atual = caminhos_possiveis[0][0][-1]\n",
    "        else:\n",
    "            caminho_errado.append(caminho[-1])\n",
    "    \n",
    "    return caminhos_possiveis[0][0]"
   ]
  },
  {
   "cell_type": "code",
   "execution_count": 14,
   "metadata": {},
   "outputs": [],
   "source": [
    "# Convertendo array do numpy para uma lista\n",
    "def convert_numpy_list(num):\n",
    "    lis = []\n",
    "    for i in num:\n",
    "        lis2 = []\n",
    "        for j in i:\n",
    "            lis2.append(str(j))\n",
    "        lis.append(lis2)\n",
    "    return lis\n",
    "\n",
    "# Visualizar as matrizes resposta\n",
    "def visualize_path_a_search(caminho, maze):\n",
    "    direcoes = []\n",
    "    anterior = caminho[0]\n",
    "    maze = convert_numpy_list(maze)\n",
    "\n",
    "    for pos in caminho[1:]:\n",
    "        y_ant, x_ant = anterior\n",
    "        y_pos, x_pos = pos\n",
    "\n",
    "        if x_pos - x_ant == 1:\n",
    "            maze[y_ant][x_ant] = '→'\n",
    "\n",
    "        elif x_pos - x_ant == -1:\n",
    "            maze[y_ant][x_ant] = '←'\n",
    "\n",
    "        elif y_pos - y_ant == 1:\n",
    "            maze[y_ant][x_ant] = '↓'\n",
    "\n",
    "        elif y_pos - y_ant == -1:\n",
    "            maze[y_ant][x_ant] = '↑'\n",
    "\n",
    "        anterior = pos\n",
    "        \n",
    "    return maze"
   ]
  },
  {
   "cell_type": "code",
   "execution_count": 15,
   "metadata": {},
   "outputs": [],
   "source": [
    "# Calculando caminho para matar goombas/inimigos\n",
    "def defeat_goombas(goombas, musshroom, maze):\n",
    "    tam_menor_caminho = []\n",
    "    tam_caminho_percorrido = []\n",
    "    grafo = maze2graph(maze)\n",
    "    \n",
    "    goombas.sort(key=lambda x: manhattan_distance(x, musshroom))\n",
    "    caminho = [a_search_algorithm(musshroom, goombas[0], grafo)]\n",
    "\n",
    "    for i in range(len(goombas) - 1):\n",
    "        goomba_atual = goombas.pop(0)\n",
    "        goombas.sort(key=lambda x: manhattan_distance(x, goomba_atual))\n",
    "        caminho.append(a_search_algorithm(goomba_atual, goombas[0], grafo))\n",
    "        \n",
    "    return caminho, goombas[0]"
   ]
  },
  {
   "cell_type": "code",
   "execution_count": 16,
   "metadata": {},
   "outputs": [],
   "source": [
    "# Encontra pontos especiais no labirinto dado seu valor\n",
    "def find_points(valor, maze):\n",
    "    pontos = []\n",
    "    for i in range(len(maze)):\n",
    "        for j in range(len(maze[0])):\n",
    "            if maze[i][j] == valor:\n",
    "                pontos.append((i, j))\n",
    "    return pontos"
   ]
  },
  {
   "cell_type": "code",
   "execution_count": 17,
   "metadata": {},
   "outputs": [],
   "source": [
    "# Resolve o labirinto através do A*\n",
    "def solved_maze(maze):\n",
    "    maze_copy = maze.copy()\n",
    "\n",
    "    # Recuperando pontos especiais\n",
    "    start = find_points(3, maze_copy)[0]\n",
    "    end = find_points(4, maze_copy)[0]\n",
    "    mushroom = find_points(5, maze_copy)[0]\n",
    "    goombas = find_points(2, maze_copy)\n",
    "\n",
    "    grafo = maze2graph(maze_copy)\n",
    "    \n",
    "    # Calculando caminho do ponto inicial ao cogumelo\n",
    "    start_mushroom = a_search_algorithm(start, mushroom, grafo)\n",
    "\n",
    "    # Agora os goombas podem ser derrotados\n",
    "    for i in goombas:\n",
    "        maze_copy[i[0]][i[1]] = 1\n",
    "    \n",
    "    # Calculando caminho do cogumelo até os goombas\n",
    "    mushroom_goomba, ultimo_goomba = defeat_goombas(goombas, mushroom, maze_copy)\n",
    "\n",
    "    # Calculando caminho do último goomba até o castelo\n",
    "    goomba_end = a_search_algorithm(ultimo_goomba, end, grafo)\n",
    "    \n",
    "    start_mushroom_map = visualize_path_a_search(start_mushroom, maze_copy)\n",
    "    \n",
    "    goomba_maps = []\n",
    "    for goomba in mushroom_goomba:\n",
    "        goomba_maps.append(visualize_path_a_search(goomba, maze_copy))\n",
    "    \n",
    "    castle_map = visualize_path_a_search(goomba_end, maze_copy)\n",
    "\n",
    "    return [start_mushroom_map] + goomba_maps + [castle_map]\n",
    "    "
   ]
  },
  {
   "cell_type": "code",
   "execution_count": 18,
   "metadata": {},
   "outputs": [
    {
     "name": "stdout",
     "output_type": "stream",
     "text": [
      "['0', '0', '0', '0', '0', '0', '0', '0', '0', '0']\n",
      "['0', '↓', '←', '←', '←', '←', '1', '1', '1', '0']\n",
      "['0', '↓', '0', '1', '0', '1', '0', '0', '4', '0']\n",
      "['0', '↓', '0', '1', '0', '1', '0', '0', '1', '0']\n",
      "['0', '↓', '0', '0', '0', '1', '0', '1', '0', '0']\n",
      "['0', '↓', '0', '0', '0', '0', '0', '0', '5', '0']\n",
      "['0', '→', '→', '→', '→', '→', '→', '→', '↑', '0']\n",
      "['0', '0', '0', '0', '0', '0', '0', '0', '0', '0']\n",
      "\n",
      "\n",
      "['0', '0', '0', '0', '0', '0', '0', '0', '0', '0']\n",
      "['0', '→', '→', '↓', '1', '3', '1', '1', '1', '0']\n",
      "['0', '↑', '0', '↓', '0', '1', '0', '0', '4', '0']\n",
      "['0', '↑', '0', '1', '0', '1', '0', '0', '1', '0']\n",
      "['0', '↑', '0', '0', '0', '1', '0', '1', '0', '0']\n",
      "['0', '↑', '0', '0', '0', '0', '0', '0', '↓', '0']\n",
      "['0', '↑', '←', '←', '←', '←', '←', '←', '←', '0']\n",
      "['0', '0', '0', '0', '0', '0', '0', '0', '0', '0']\n",
      "\n",
      "\n",
      "['0', '0', '0', '0', '0', '0', '0', '0', '0', '0']\n",
      "['0', '1', '1', '→', '→', '→', '→', '→', '↓', '0']\n",
      "['0', '1', '0', '↑', '0', '1', '0', '0', '4', '0']\n",
      "['0', '1', '0', '↑', '0', '1', '0', '0', '1', '0']\n",
      "['0', '1', '0', '0', '0', '1', '0', '1', '0', '0']\n",
      "['0', '1', '0', '0', '0', '0', '0', '0', '5', '0']\n",
      "['0', '1', '1', '1', '1', '1', '1', '1', '1', '0']\n",
      "['0', '0', '0', '0', '0', '0', '0', '0', '0', '0']\n",
      "\n",
      "\n"
     ]
    }
   ],
   "source": [
    "# Lendo arquivo referente ao arquivo csv\n",
    "maze_easy = pd.read_csv('mazes/maze_easy.csv', header=None).values\n",
    "\n",
    "# Resolvendo o labirinto\n",
    "answer = solved_maze(maze_easy)\n",
    "\n",
    "# Visualizando resposta\n",
    "for map in answer:\n",
    "    for line in map:\n",
    "        print(line)\n",
    "    print('\\n')"
   ]
  },
  {
   "cell_type": "markdown",
   "metadata": {},
   "source": [
    "## Conclusão"
   ]
  },
  {
   "cell_type": "markdown",
   "metadata": {},
   "source": [
    "* Comparar algoritmos com alguns casos de Teste;\n",
    "* Interpretar resultados obtidos;\n",
    "* Considerações Finais acerca do problema."
   ]
  },
  {
   "cell_type": "markdown",
   "metadata": {},
   "source": [
    "## Referências\n"
   ]
  },
  {
   "cell_type": "markdown",
   "metadata": {},
   "source": [
    "BRATKO, I. Prolog Programming for Artificial Intelligence . Mitchell, T. Machine\n",
    "Learning , McGraw Hill, 1997.\n",
    "\n",
    "RUSSEL, S.; NORVIG, P. Artificial Intelligence : A Modern Approach. Prentice\n",
    "Hall; 3 edition (December 11, 2009).\n",
    "\n",
    "https://www.geeksforgeeks.org/difference-between-informed-and-uninformed-search-in-ai/?ref=lbp\n",
    "\n",
    "https://www.sciencedirect.com/topics/mathematics/manhattan-distance\n",
    "\n",
    "https://www.geeksforgeeks.org/difference-between-bfs-and-dfs/?ref=lbp\n",
    "\n",
    "http://theory.stanford.edu/~amitp/GameProgramming/AStarComparison.html\n",
    "\n",
    "http://theory.stanford.edu/~amitp/GameProgramming/"
   ]
  }
 ],
 "metadata": {
  "kernelspec": {
   "display_name": "Python 3.10.7 64-bit",
   "language": "python",
   "name": "python3"
  },
  "language_info": {
   "codemirror_mode": {
    "name": "ipython",
    "version": 3
   },
   "file_extension": ".py",
   "mimetype": "text/x-python",
   "name": "python",
   "nbconvert_exporter": "python",
   "pygments_lexer": "ipython3",
   "version": "3.10.7"
  },
  "vscode": {
   "interpreter": {
    "hash": "8c2e15034f07720a3e57266749b805dbe4b964ae6e11e3a0ca2f3b08408e10de"
   }
  }
 },
 "nbformat": 4,
 "nbformat_minor": 2
}
